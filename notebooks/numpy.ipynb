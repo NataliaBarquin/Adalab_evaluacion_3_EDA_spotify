{
 "cells": [
  {
   "cell_type": "markdown",
   "metadata": {},
   "source": [
    "#### EVALUACIÓN NUMPY NATALIA BARQUÍN"
   ]
  },
  {
   "cell_type": "markdown",
   "metadata": {},
   "source": [
    "1. Importa la librería de NumPy."
   ]
  },
  {
   "cell_type": "code",
   "execution_count": 1,
   "metadata": {},
   "outputs": [],
   "source": [
    "import numpy as np"
   ]
  },
  {
   "cell_type": "markdown",
   "metadata": {},
   "source": [
    "2. Crea un array de 1 dimensión y 10 elementos."
   ]
  },
  {
   "cell_type": "code",
   "execution_count": 2,
   "metadata": {},
   "outputs": [
    {
     "data": {
      "text/plain": [
       "array([42, 54,  7, 80, 79, 52, 37, 72, 57, 33])"
      ]
     },
     "execution_count": 2,
     "metadata": {},
     "output_type": "execute_result"
    }
   ],
   "source": [
    "array_uni = np.random.randint(1,100, (10))\n",
    "array_uni"
   ]
  },
  {
   "cell_type": "markdown",
   "metadata": {},
   "source": [
    "3. Reemplaza todos los números impares por el valor \"impar\" y los pares por \"par\". Para hacer esto os tendréis que crear un array nuevo donde vayáis añadiendo los valores nuevos."
   ]
  },
  {
   "cell_type": "code",
   "execution_count": 12,
   "metadata": {},
   "outputs": [],
   "source": [
    "def par_impar(array):\n",
    "    '''\n",
    "    Crea un array de str vacío igual al array que recibe como parámetro, y le añade\n",
    "    valor 'par' o 'impar' en función de cómo sea ese valor en el array original.\n",
    "    Parámetro: array que queramos modificar (array de ints o floats)\n",
    "    Return: array de str con valores 'par' o 'impar'\n",
    "    '''\n",
    "\n",
    "    array_pares_impares = np.empty_like(array, dtype = np.dtype('U100'))\n",
    "\n",
    "    for i in range(array.size):\n",
    "        if array[i] %2 == 0:\n",
    "            array_pares_impares[i] = \"par\"\n",
    "        else:\n",
    "            array_pares_impares[i] = \"impar\"\n",
    "\n",
    "    return array_pares_impares"
   ]
  },
  {
   "cell_type": "code",
   "execution_count": 13,
   "metadata": {},
   "outputs": [
    {
     "data": {
      "text/plain": [
       "array(['par', 'par', 'impar', 'par', 'impar', 'par', 'impar', 'par',\n",
       "       'impar', 'impar'], dtype='<U100')"
      ]
     },
     "execution_count": 13,
     "metadata": {},
     "output_type": "execute_result"
    }
   ],
   "source": [
    "array_par_impar = par_impar(array_uni)\n",
    "array_par_impar"
   ]
  },
  {
   "cell_type": "markdown",
   "metadata": {},
   "source": [
    "4. Cambiad la forma del array del ejercicio 3 a un array de 2 filas y 5 columnas."
   ]
  },
  {
   "cell_type": "code",
   "execution_count": 6,
   "metadata": {},
   "outputs": [
    {
     "data": {
      "text/plain": [
       "array([['par', 'par', 'impar', 'par', 'impar'],\n",
       "       ['par', 'impar', 'par', 'impar', 'impar']], dtype='<U100')"
      ]
     },
     "execution_count": 6,
     "metadata": {},
     "output_type": "execute_result"
    }
   ],
   "source": [
    "array_bi = np.reshape(array_par_impar,(2,5))\n",
    "array_bi"
   ]
  },
  {
   "cell_type": "markdown",
   "metadata": {},
   "source": [
    "5. Extrae los elementos comunes de los siguientes arrays."
   ]
  },
  {
   "cell_type": "code",
   "execution_count": 7,
   "metadata": {},
   "outputs": [],
   "source": [
    "array1 = np.array([1,2,3,2,3,4,3,4,5,6])\n",
    "array2 = np.array([7,2,10,2,7,4,9,4,9,8])"
   ]
  },
  {
   "cell_type": "code",
   "execution_count": 8,
   "metadata": {},
   "outputs": [
    {
     "data": {
      "text/plain": [
       "array([2, 4])"
      ]
     },
     "execution_count": 8,
     "metadata": {},
     "output_type": "execute_result"
    }
   ],
   "source": [
    "np.intersect1d(array1, array2)"
   ]
  },
  {
   "cell_type": "markdown",
   "metadata": {},
   "source": [
    "6. Extraed los elementos que están en el array1 pero no en el array2."
   ]
  },
  {
   "cell_type": "code",
   "execution_count": 9,
   "metadata": {},
   "outputs": [
    {
     "data": {
      "text/plain": [
       "array([1, 3, 5, 6])"
      ]
     },
     "execution_count": 9,
     "metadata": {},
     "output_type": "execute_result"
    }
   ],
   "source": [
    "np.setdiff1d(array1, array2)"
   ]
  },
  {
   "cell_type": "markdown",
   "metadata": {},
   "source": [
    "7. Extraed las posiciones donde tengamos elementos que sean iguales."
   ]
  },
  {
   "cell_type": "code",
   "execution_count": 45,
   "metadata": {},
   "outputs": [
    {
     "data": {
      "text/plain": [
       "(array([1, 3, 5, 7]),)"
      ]
     },
     "execution_count": 45,
     "metadata": {},
     "output_type": "execute_result"
    }
   ],
   "source": [
    "np.where(array1 == array2)"
   ]
  },
  {
   "cell_type": "markdown",
   "metadata": {},
   "source": [
    "8. Cread un array de 3 filas y 5 columnas, con números enteros del 0 al 50. Una vez creado, extrae los valores que sean menores que 10 y mayores que 40."
   ]
  },
  {
   "cell_type": "code",
   "execution_count": 25,
   "metadata": {},
   "outputs": [
    {
     "data": {
      "text/plain": [
       "array([[13, 23,  8, 36, 49],\n",
       "       [24, 29, 27, 18, 46],\n",
       "       [34, 38, 36, 16,  1]])"
      ]
     },
     "execution_count": 25,
     "metadata": {},
     "output_type": "execute_result"
    }
   ],
   "source": [
    "array_50 = np.random.randint(1,50, (3,5))\n",
    "array_50"
   ]
  },
  {
   "cell_type": "code",
   "execution_count": 35,
   "metadata": {},
   "outputs": [
    {
     "data": {
      "text/plain": [
       "array([ 8, 49, 46,  1])"
      ]
     },
     "execution_count": 35,
     "metadata": {},
     "output_type": "execute_result"
    }
   ],
   "source": [
    "condicion1 = array_50 > 40\n",
    "condicion2 = array_50 < 10\n",
    "\n",
    "array_50[condicion1 | condicion2]"
   ]
  },
  {
   "cell_type": "markdown",
   "metadata": {},
   "source": [
    "9. Cread un array de 5x3 con números decimales aleatorios entre el 5 y el 10."
   ]
  },
  {
   "cell_type": "code",
   "execution_count": 38,
   "metadata": {},
   "outputs": [
    {
     "data": {
      "text/plain": [
       "array([[8.15, 7.99, 9.01],\n",
       "       [5.18, 6.84, 5.23],\n",
       "       [8.38, 7.67, 5.35],\n",
       "       [8.46, 5.21, 6.07],\n",
       "       [5.71, 9.66, 6.09]])"
      ]
     },
     "execution_count": 38,
     "metadata": {},
     "output_type": "execute_result"
    }
   ],
   "source": [
    "array_floats = np.random.uniform(5,10, (5,3)).round(2)\n",
    "array_floats"
   ]
  },
  {
   "cell_type": "markdown",
   "metadata": {},
   "source": [
    "10. Crea un array de tres dimensiones de 2x4x7 con números entre el 1 y el 20.\n",
    "- Transponed el array para que tenga 4 matrices, 7 filas y 2 columnas\n"
   ]
  },
  {
   "cell_type": "code",
   "execution_count": 39,
   "metadata": {},
   "outputs": [
    {
     "data": {
      "text/plain": [
       "array([[[ 4,  3,  5,  8, 10,  3,  9],\n",
       "        [18, 19,  9, 13,  3,  8,  5],\n",
       "        [ 4,  7, 15,  2, 14,  1, 13],\n",
       "        [ 7,  4,  6,  1,  5, 12, 13]],\n",
       "\n",
       "       [[18, 18, 13,  9, 19,  4, 11],\n",
       "        [16, 11, 19, 13,  8, 14, 18],\n",
       "        [ 6,  5,  8,  3,  7,  3,  3],\n",
       "        [ 9, 15, 14,  7,  2, 15,  9]]])"
      ]
     },
     "execution_count": 39,
     "metadata": {},
     "output_type": "execute_result"
    }
   ],
   "source": [
    "array_tri = np.random.randint(1,20, (2,4,7))\n",
    "array_tri"
   ]
  },
  {
   "cell_type": "code",
   "execution_count": 41,
   "metadata": {},
   "outputs": [
    {
     "data": {
      "text/plain": [
       "array([[[ 4, 18],\n",
       "        [ 3, 18],\n",
       "        [ 5, 13],\n",
       "        [ 8,  9],\n",
       "        [10, 19],\n",
       "        [ 3,  4],\n",
       "        [ 9, 11]],\n",
       "\n",
       "       [[18, 16],\n",
       "        [19, 11],\n",
       "        [ 9, 19],\n",
       "        [13, 13],\n",
       "        [ 3,  8],\n",
       "        [ 8, 14],\n",
       "        [ 5, 18]],\n",
       "\n",
       "       [[ 4,  6],\n",
       "        [ 7,  5],\n",
       "        [15,  8],\n",
       "        [ 2,  3],\n",
       "        [14,  7],\n",
       "        [ 1,  3],\n",
       "        [13,  3]],\n",
       "\n",
       "       [[ 7,  9],\n",
       "        [ 4, 15],\n",
       "        [ 6, 14],\n",
       "        [ 1,  7],\n",
       "        [ 5,  2],\n",
       "        [12, 15],\n",
       "        [13,  9]]])"
      ]
     },
     "execution_count": 41,
     "metadata": {},
     "output_type": "execute_result"
    }
   ],
   "source": [
    "#modificamos según las posiciones de las matrices, filas y columnas originales.\n",
    "np.transpose(array_tri, (1,2,0))"
   ]
  }
 ],
 "metadata": {
  "kernelspec": {
   "display_name": "adalabenv",
   "language": "python",
   "name": "python3"
  },
  "language_info": {
   "codemirror_mode": {
    "name": "ipython",
    "version": 3
   },
   "file_extension": ".py",
   "mimetype": "text/x-python",
   "name": "python",
   "nbconvert_exporter": "python",
   "pygments_lexer": "ipython3",
   "version": "3.10.11"
  },
  "orig_nbformat": 4
 },
 "nbformat": 4,
 "nbformat_minor": 2
}
