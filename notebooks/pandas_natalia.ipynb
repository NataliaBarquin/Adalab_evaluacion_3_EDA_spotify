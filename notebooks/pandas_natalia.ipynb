{
 "cells": [
  {
   "cell_type": "markdown",
   "metadata": {},
   "source": [
    "### EVALUACIÓN PANDAS NATALIA BARQUÍN"
   ]
  },
  {
   "cell_type": "markdown",
   "metadata": {},
   "source": [
    "NOTA: En este jupyter usaremos los markdowns para reflejar las preguntas y para redactar nuestros análisis. Los análisis los reflejaremos en *cursiva* para diferenciarlos visualmente de las preguntas."
   ]
  },
  {
   "cell_type": "markdown",
   "metadata": {},
   "source": [
    "##### **1. IMPORTACIÓN DE PANDAS:**"
   ]
  },
  {
   "cell_type": "code",
   "execution_count": 141,
   "metadata": {},
   "outputs": [],
   "source": [
    "import pandas as pd\n",
    "\n",
    "#se incluyen también otras librerías necesarias\n",
    "import numpy as np\n",
    "import matplotlib.pyplot as plt\n",
    "import seaborn as sns\n",
    "import re"
   ]
  },
  {
   "cell_type": "markdown",
   "metadata": {},
   "source": [
    "#### **2. EXPLORACIÓN DEL CONJUNTO DE DATOS:**"
   ]
  },
  {
   "cell_type": "markdown",
   "metadata": {},
   "source": [
    "- Cargad el fichero, al cargarlo os aparecerá una columna llamada \"Unnamed: 0\". Cargad el dataset sin que aparezca esta columna. Además realizad un análisis exploratorio que incluya:"
   ]
  },
  {
   "cell_type": "code",
   "execution_count": 142,
   "metadata": {},
   "outputs": [],
   "source": [
    "df_spotify = pd.read_csv('../data/Spotify_Youtube.csv',index_col = 0)"
   ]
  },
  {
   "cell_type": "markdown",
   "metadata": {},
   "source": [
    "- Cuando leais el fichero, veremos que no podemos ver todas las columnas, utilizad el comando correcto para poder visualizarlas todas cuando hacemos un head"
   ]
  },
  {
   "cell_type": "code",
   "execution_count": 143,
   "metadata": {},
   "outputs": [],
   "source": [
    "pd.options.display.max_columns = None"
   ]
  },
  {
   "cell_type": "markdown",
   "metadata": {},
   "source": [
    "- Primeras 5 filas del dataframe"
   ]
  },
  {
   "cell_type": "code",
   "execution_count": 144,
   "metadata": {},
   "outputs": [
    {
     "data": {
      "text/html": [
       "<div>\n",
       "<style scoped>\n",
       "    .dataframe tbody tr th:only-of-type {\n",
       "        vertical-align: middle;\n",
       "    }\n",
       "\n",
       "    .dataframe tbody tr th {\n",
       "        vertical-align: top;\n",
       "    }\n",
       "\n",
       "    .dataframe thead th {\n",
       "        text-align: right;\n",
       "    }\n",
       "</style>\n",
       "<table border=\"1\" class=\"dataframe\">\n",
       "  <thead>\n",
       "    <tr style=\"text-align: right;\">\n",
       "      <th></th>\n",
       "      <th>Artist</th>\n",
       "      <th>Url_spotify</th>\n",
       "      <th>Track</th>\n",
       "      <th>Album</th>\n",
       "      <th>Album_type</th>\n",
       "      <th>Uri</th>\n",
       "      <th>Danceability</th>\n",
       "      <th>Energy</th>\n",
       "      <th>Key</th>\n",
       "      <th>Loudness</th>\n",
       "      <th>Speechiness</th>\n",
       "      <th>Acousticness</th>\n",
       "      <th>Instrumentalness</th>\n",
       "      <th>Liveness</th>\n",
       "      <th>Valence</th>\n",
       "      <th>Tempo</th>\n",
       "      <th>Duration_ms</th>\n",
       "      <th>Url_youtube</th>\n",
       "      <th>Title</th>\n",
       "      <th>Channel</th>\n",
       "      <th>Views</th>\n",
       "      <th>Likes</th>\n",
       "      <th>Comments</th>\n",
       "      <th>Description</th>\n",
       "      <th>Licensed</th>\n",
       "      <th>Official_video</th>\n",
       "      <th>Stream</th>\n",
       "    </tr>\n",
       "  </thead>\n",
       "  <tbody>\n",
       "    <tr>\n",
       "      <th>0</th>\n",
       "      <td>Gorillaz</td>\n",
       "      <td>https://open.spotify.com/artist/3AA28KZvwAUcZu...</td>\n",
       "      <td>Feel Good Inc.</td>\n",
       "      <td>Demon Days</td>\n",
       "      <td>album</td>\n",
       "      <td>spotify:track:0d28khcov6AiegSCpG5TuT</td>\n",
       "      <td>0,818</td>\n",
       "      <td>0,705</td>\n",
       "      <td>6,0</td>\n",
       "      <td>-6,679</td>\n",
       "      <td>0,177</td>\n",
       "      <td>0,00836</td>\n",
       "      <td>0,00233</td>\n",
       "      <td>0.6130</td>\n",
       "      <td>0.772</td>\n",
       "      <td>138.559</td>\n",
       "      <td>222640.0</td>\n",
       "      <td>https://www.youtube.com/watch?v=HyHNuVaZJ-k</td>\n",
       "      <td>Gorillaz - Feel Good Inc. (Official Video)</td>\n",
       "      <td>Gorillaz</td>\n",
       "      <td>693555221.0</td>\n",
       "      <td>6220896.0</td>\n",
       "      <td>169907.0</td>\n",
       "      <td>Official HD Video for Gorillaz' fantastic trac...</td>\n",
       "      <td>True</td>\n",
       "      <td>True</td>\n",
       "      <td>1.040235e+09</td>\n",
       "    </tr>\n",
       "    <tr>\n",
       "      <th>1</th>\n",
       "      <td>Gorillaz</td>\n",
       "      <td>https://open.spotify.com/artist/3AA28KZvwAUcZu...</td>\n",
       "      <td>Rhinestone Eyes</td>\n",
       "      <td>Plastic Beach</td>\n",
       "      <td>album</td>\n",
       "      <td>spotify:track:1foMv2HQwfQ2vntFf9HFeG</td>\n",
       "      <td>0,676</td>\n",
       "      <td>0,703</td>\n",
       "      <td>8,0</td>\n",
       "      <td>-5,815</td>\n",
       "      <td>0,0302</td>\n",
       "      <td>0,0869</td>\n",
       "      <td>0,000687</td>\n",
       "      <td>0.0463</td>\n",
       "      <td>0.852</td>\n",
       "      <td>92.761</td>\n",
       "      <td>200173.0</td>\n",
       "      <td>https://www.youtube.com/watch?v=yYDmaexVHic</td>\n",
       "      <td>Gorillaz - Rhinestone Eyes [Storyboard Film] (...</td>\n",
       "      <td>Gorillaz</td>\n",
       "      <td>72011645.0</td>\n",
       "      <td>1079128.0</td>\n",
       "      <td>31003.0</td>\n",
       "      <td>The official video for Gorillaz - Rhinestone E...</td>\n",
       "      <td>True</td>\n",
       "      <td>True</td>\n",
       "      <td>3.100837e+08</td>\n",
       "    </tr>\n",
       "    <tr>\n",
       "      <th>2</th>\n",
       "      <td>Gorillaz</td>\n",
       "      <td>https://open.spotify.com/artist/3AA28KZvwAUcZu...</td>\n",
       "      <td>New Gold (feat. Tame Impala and Bootie Brown)</td>\n",
       "      <td>New Gold (feat. Tame Impala and Bootie Brown)</td>\n",
       "      <td>single</td>\n",
       "      <td>spotify:track:64dLd6rVqDLtkXFYrEUHIU</td>\n",
       "      <td>0,695</td>\n",
       "      <td>0,923</td>\n",
       "      <td>1,0</td>\n",
       "      <td>-3,93</td>\n",
       "      <td>0,0522</td>\n",
       "      <td>0,0425</td>\n",
       "      <td>0,0469</td>\n",
       "      <td>0.1160</td>\n",
       "      <td>0.551</td>\n",
       "      <td>108.014</td>\n",
       "      <td>215150.0</td>\n",
       "      <td>https://www.youtube.com/watch?v=qJa-VFwPpYA</td>\n",
       "      <td>Gorillaz - New Gold ft. Tame Impala &amp; Bootie B...</td>\n",
       "      <td>Gorillaz</td>\n",
       "      <td>8435055.0</td>\n",
       "      <td>282142.0</td>\n",
       "      <td>7399.0</td>\n",
       "      <td>Gorillaz - New Gold ft. Tame Impala &amp; Bootie B...</td>\n",
       "      <td>True</td>\n",
       "      <td>True</td>\n",
       "      <td>6.306347e+07</td>\n",
       "    </tr>\n",
       "    <tr>\n",
       "      <th>3</th>\n",
       "      <td>Gorillaz</td>\n",
       "      <td>https://open.spotify.com/artist/3AA28KZvwAUcZu...</td>\n",
       "      <td>On Melancholy Hill</td>\n",
       "      <td>Plastic Beach</td>\n",
       "      <td>album</td>\n",
       "      <td>spotify:track:0q6LuUqGLUiCPP1cbdwFs3</td>\n",
       "      <td>0,689</td>\n",
       "      <td>0,739</td>\n",
       "      <td>2,0</td>\n",
       "      <td>-5,81</td>\n",
       "      <td>0,026</td>\n",
       "      <td>1,51e-05</td>\n",
       "      <td>0,509</td>\n",
       "      <td>0.0640</td>\n",
       "      <td>0.578</td>\n",
       "      <td>120.423</td>\n",
       "      <td>233867.0</td>\n",
       "      <td>https://www.youtube.com/watch?v=04mfKJWDSzI</td>\n",
       "      <td>Gorillaz - On Melancholy Hill (Official Video)</td>\n",
       "      <td>Gorillaz</td>\n",
       "      <td>211754952.0</td>\n",
       "      <td>1788577.0</td>\n",
       "      <td>55229.0</td>\n",
       "      <td>Follow Gorillaz online:\\nhttp://gorillaz.com \\...</td>\n",
       "      <td>True</td>\n",
       "      <td>True</td>\n",
       "      <td>4.346636e+08</td>\n",
       "    </tr>\n",
       "    <tr>\n",
       "      <th>4</th>\n",
       "      <td>Gorillaz</td>\n",
       "      <td>https://open.spotify.com/artist/3AA28KZvwAUcZu...</td>\n",
       "      <td>Clint Eastwood</td>\n",
       "      <td>Gorillaz</td>\n",
       "      <td>album</td>\n",
       "      <td>spotify:track:7yMiX7n9SBvadzox8T5jzT</td>\n",
       "      <td>0,663</td>\n",
       "      <td>0,694</td>\n",
       "      <td>10,0</td>\n",
       "      <td>-8,627</td>\n",
       "      <td>0,171</td>\n",
       "      <td>0,0253</td>\n",
       "      <td>0,0</td>\n",
       "      <td>0.0698</td>\n",
       "      <td>0.525</td>\n",
       "      <td>167.953</td>\n",
       "      <td>340920.0</td>\n",
       "      <td>https://www.youtube.com/watch?v=1V_xRb0x9aw</td>\n",
       "      <td>Gorillaz - Clint Eastwood (Official Video)</td>\n",
       "      <td>Gorillaz</td>\n",
       "      <td>618480958.0</td>\n",
       "      <td>6197318.0</td>\n",
       "      <td>155930.0</td>\n",
       "      <td>The official music video for Gorillaz - Clint ...</td>\n",
       "      <td>True</td>\n",
       "      <td>True</td>\n",
       "      <td>6.172597e+08</td>\n",
       "    </tr>\n",
       "  </tbody>\n",
       "</table>\n",
       "</div>"
      ],
      "text/plain": [
       "     Artist                                        Url_spotify  \\\n",
       "0  Gorillaz  https://open.spotify.com/artist/3AA28KZvwAUcZu...   \n",
       "1  Gorillaz  https://open.spotify.com/artist/3AA28KZvwAUcZu...   \n",
       "2  Gorillaz  https://open.spotify.com/artist/3AA28KZvwAUcZu...   \n",
       "3  Gorillaz  https://open.spotify.com/artist/3AA28KZvwAUcZu...   \n",
       "4  Gorillaz  https://open.spotify.com/artist/3AA28KZvwAUcZu...   \n",
       "\n",
       "                                           Track  \\\n",
       "0                                 Feel Good Inc.   \n",
       "1                                Rhinestone Eyes   \n",
       "2  New Gold (feat. Tame Impala and Bootie Brown)   \n",
       "3                             On Melancholy Hill   \n",
       "4                                 Clint Eastwood   \n",
       "\n",
       "                                           Album Album_type  \\\n",
       "0                                     Demon Days      album   \n",
       "1                                  Plastic Beach      album   \n",
       "2  New Gold (feat. Tame Impala and Bootie Brown)     single   \n",
       "3                                  Plastic Beach      album   \n",
       "4                                       Gorillaz      album   \n",
       "\n",
       "                                    Uri Danceability Energy   Key Loudness  \\\n",
       "0  spotify:track:0d28khcov6AiegSCpG5TuT        0,818  0,705   6,0   -6,679   \n",
       "1  spotify:track:1foMv2HQwfQ2vntFf9HFeG        0,676  0,703   8,0   -5,815   \n",
       "2  spotify:track:64dLd6rVqDLtkXFYrEUHIU        0,695  0,923   1,0    -3,93   \n",
       "3  spotify:track:0q6LuUqGLUiCPP1cbdwFs3        0,689  0,739   2,0    -5,81   \n",
       "4  spotify:track:7yMiX7n9SBvadzox8T5jzT        0,663  0,694  10,0   -8,627   \n",
       "\n",
       "  Speechiness Acousticness Instrumentalness  Liveness  Valence    Tempo  \\\n",
       "0       0,177      0,00836          0,00233    0.6130    0.772  138.559   \n",
       "1      0,0302       0,0869         0,000687    0.0463    0.852   92.761   \n",
       "2      0,0522       0,0425           0,0469    0.1160    0.551  108.014   \n",
       "3       0,026     1,51e-05            0,509    0.0640    0.578  120.423   \n",
       "4       0,171       0,0253              0,0    0.0698    0.525  167.953   \n",
       "\n",
       "   Duration_ms                                  Url_youtube  \\\n",
       "0     222640.0  https://www.youtube.com/watch?v=HyHNuVaZJ-k   \n",
       "1     200173.0  https://www.youtube.com/watch?v=yYDmaexVHic   \n",
       "2     215150.0  https://www.youtube.com/watch?v=qJa-VFwPpYA   \n",
       "3     233867.0  https://www.youtube.com/watch?v=04mfKJWDSzI   \n",
       "4     340920.0  https://www.youtube.com/watch?v=1V_xRb0x9aw   \n",
       "\n",
       "                                               Title   Channel        Views  \\\n",
       "0         Gorillaz - Feel Good Inc. (Official Video)  Gorillaz  693555221.0   \n",
       "1  Gorillaz - Rhinestone Eyes [Storyboard Film] (...  Gorillaz   72011645.0   \n",
       "2  Gorillaz - New Gold ft. Tame Impala & Bootie B...  Gorillaz    8435055.0   \n",
       "3     Gorillaz - On Melancholy Hill (Official Video)  Gorillaz  211754952.0   \n",
       "4         Gorillaz - Clint Eastwood (Official Video)  Gorillaz  618480958.0   \n",
       "\n",
       "       Likes  Comments                                        Description  \\\n",
       "0  6220896.0  169907.0  Official HD Video for Gorillaz' fantastic trac...   \n",
       "1  1079128.0   31003.0  The official video for Gorillaz - Rhinestone E...   \n",
       "2   282142.0    7399.0  Gorillaz - New Gold ft. Tame Impala & Bootie B...   \n",
       "3  1788577.0   55229.0  Follow Gorillaz online:\\nhttp://gorillaz.com \\...   \n",
       "4  6197318.0  155930.0  The official music video for Gorillaz - Clint ...   \n",
       "\n",
       "  Licensed Official_video        Stream  \n",
       "0     True           True  1.040235e+09  \n",
       "1     True           True  3.100837e+08  \n",
       "2     True           True  6.306347e+07  \n",
       "3     True           True  4.346636e+08  \n",
       "4     True           True  6.172597e+08  "
      ]
     },
     "execution_count": 144,
     "metadata": {},
     "output_type": "execute_result"
    }
   ],
   "source": [
    "df_spotify.head()"
   ]
  },
  {
   "cell_type": "markdown",
   "metadata": {},
   "source": [
    "- Últimas 5 filas del dataframe"
   ]
  },
  {
   "cell_type": "code",
   "execution_count": 145,
   "metadata": {},
   "outputs": [
    {
     "data": {
      "text/html": [
       "<div>\n",
       "<style scoped>\n",
       "    .dataframe tbody tr th:only-of-type {\n",
       "        vertical-align: middle;\n",
       "    }\n",
       "\n",
       "    .dataframe tbody tr th {\n",
       "        vertical-align: top;\n",
       "    }\n",
       "\n",
       "    .dataframe thead th {\n",
       "        text-align: right;\n",
       "    }\n",
       "</style>\n",
       "<table border=\"1\" class=\"dataframe\">\n",
       "  <thead>\n",
       "    <tr style=\"text-align: right;\">\n",
       "      <th></th>\n",
       "      <th>Artist</th>\n",
       "      <th>Url_spotify</th>\n",
       "      <th>Track</th>\n",
       "      <th>Album</th>\n",
       "      <th>Album_type</th>\n",
       "      <th>Uri</th>\n",
       "      <th>Danceability</th>\n",
       "      <th>Energy</th>\n",
       "      <th>Key</th>\n",
       "      <th>Loudness</th>\n",
       "      <th>Speechiness</th>\n",
       "      <th>Acousticness</th>\n",
       "      <th>Instrumentalness</th>\n",
       "      <th>Liveness</th>\n",
       "      <th>Valence</th>\n",
       "      <th>Tempo</th>\n",
       "      <th>Duration_ms</th>\n",
       "      <th>Url_youtube</th>\n",
       "      <th>Title</th>\n",
       "      <th>Channel</th>\n",
       "      <th>Views</th>\n",
       "      <th>Likes</th>\n",
       "      <th>Comments</th>\n",
       "      <th>Description</th>\n",
       "      <th>Licensed</th>\n",
       "      <th>Official_video</th>\n",
       "      <th>Stream</th>\n",
       "    </tr>\n",
       "  </thead>\n",
       "  <tbody>\n",
       "    <tr>\n",
       "      <th>20713</th>\n",
       "      <td>SICK LEGEND</td>\n",
       "      <td>https://open.spotify.com/artist/3EYY5FwDkHEYLw...</td>\n",
       "      <td>JUST DANCE HARDSTYLE</td>\n",
       "      <td>JUST DANCE HARDSTYLE</td>\n",
       "      <td>single</td>\n",
       "      <td>spotify:track:0RtcKQGyI4hr8FgFH1TuYG</td>\n",
       "      <td>0,582</td>\n",
       "      <td>0,926</td>\n",
       "      <td>5,0</td>\n",
       "      <td>-6,344</td>\n",
       "      <td>0,0328</td>\n",
       "      <td>0,448</td>\n",
       "      <td>0,0</td>\n",
       "      <td>0.0839</td>\n",
       "      <td>0.6580</td>\n",
       "      <td>90.002</td>\n",
       "      <td>94667.0</td>\n",
       "      <td>https://www.youtube.com/watch?v=5SHmKFKlNqI</td>\n",
       "      <td>JUST DANCE HARDSTYLE</td>\n",
       "      <td>SICK LEGEND - Topic</td>\n",
       "      <td>71678.0</td>\n",
       "      <td>1113.0</td>\n",
       "      <td>0.0</td>\n",
       "      <td>Provided to YouTube by Routenote\\n\\nJUST DANCE...</td>\n",
       "      <td>True</td>\n",
       "      <td>True</td>\n",
       "      <td>9227144.0</td>\n",
       "    </tr>\n",
       "    <tr>\n",
       "      <th>20714</th>\n",
       "      <td>SICK LEGEND</td>\n",
       "      <td>https://open.spotify.com/artist/3EYY5FwDkHEYLw...</td>\n",
       "      <td>SET FIRE TO THE RAIN HARDSTYLE</td>\n",
       "      <td>SET FIRE TO THE RAIN HARDSTYLE</td>\n",
       "      <td>single</td>\n",
       "      <td>spotify:track:3rHvPA8lUnPBkaLyPOc0VV</td>\n",
       "      <td>0,531</td>\n",
       "      <td>0,936</td>\n",
       "      <td>4,0</td>\n",
       "      <td>-1,786</td>\n",
       "      <td>0,137</td>\n",
       "      <td>0,028</td>\n",
       "      <td>0,0</td>\n",
       "      <td>0.0923</td>\n",
       "      <td>0.6570</td>\n",
       "      <td>174.869</td>\n",
       "      <td>150857.0</td>\n",
       "      <td>https://www.youtube.com/watch?v=ocTH6KxllDQ</td>\n",
       "      <td>SET FIRE TO THE RAIN HARDSTYLE</td>\n",
       "      <td>SICK LEGEND - Topic</td>\n",
       "      <td>164741.0</td>\n",
       "      <td>2019.0</td>\n",
       "      <td>0.0</td>\n",
       "      <td>Provided to YouTube by Routenote\\n\\nSET FIRE T...</td>\n",
       "      <td>True</td>\n",
       "      <td>True</td>\n",
       "      <td>10898176.0</td>\n",
       "    </tr>\n",
       "    <tr>\n",
       "      <th>20715</th>\n",
       "      <td>SICK LEGEND</td>\n",
       "      <td>https://open.spotify.com/artist/3EYY5FwDkHEYLw...</td>\n",
       "      <td>OUTSIDE HARDSTYLE SPED UP</td>\n",
       "      <td>OUTSIDE HARDSTYLE SPED UP</td>\n",
       "      <td>single</td>\n",
       "      <td>spotify:track:4jk00YxPtPbhvHJE9N4ddv</td>\n",
       "      <td>0,443</td>\n",
       "      <td>0,83</td>\n",
       "      <td>4,0</td>\n",
       "      <td>-4,679</td>\n",
       "      <td>0,0647</td>\n",
       "      <td>0,0243</td>\n",
       "      <td>0,0</td>\n",
       "      <td>0.1540</td>\n",
       "      <td>0.4190</td>\n",
       "      <td>168.388</td>\n",
       "      <td>136842.0</td>\n",
       "      <td>https://www.youtube.com/watch?v=5wFhE-HY0hg</td>\n",
       "      <td>OUTSIDE HARDSTYLE SPED UP</td>\n",
       "      <td>SICK LEGEND - Topic</td>\n",
       "      <td>35646.0</td>\n",
       "      <td>329.0</td>\n",
       "      <td>0.0</td>\n",
       "      <td>Provided to YouTube by Routenote\\n\\nOUTSIDE HA...</td>\n",
       "      <td>True</td>\n",
       "      <td>True</td>\n",
       "      <td>6226110.0</td>\n",
       "    </tr>\n",
       "    <tr>\n",
       "      <th>20716</th>\n",
       "      <td>SICK LEGEND</td>\n",
       "      <td>https://open.spotify.com/artist/3EYY5FwDkHEYLw...</td>\n",
       "      <td>ONLY GIRL HARDSTYLE</td>\n",
       "      <td>ONLY GIRL HARDSTYLE</td>\n",
       "      <td>single</td>\n",
       "      <td>spotify:track:5EyErbpsugWliX006eTDex</td>\n",
       "      <td>0,417</td>\n",
       "      <td>0,767</td>\n",
       "      <td>9,0</td>\n",
       "      <td>-4,004</td>\n",
       "      <td>0,419</td>\n",
       "      <td>0,356</td>\n",
       "      <td>0,0184</td>\n",
       "      <td>0.1080</td>\n",
       "      <td>0.5390</td>\n",
       "      <td>155.378</td>\n",
       "      <td>108387.0</td>\n",
       "      <td>https://www.youtube.com/watch?v=VMFLbFRNCn0</td>\n",
       "      <td>ONLY GIRL HARDSTYLE</td>\n",
       "      <td>SICK LEGEND - Topic</td>\n",
       "      <td>6533.0</td>\n",
       "      <td>88.0</td>\n",
       "      <td>0.0</td>\n",
       "      <td>Provided to YouTube by Routenote\\n\\nONLY GIRL ...</td>\n",
       "      <td>True</td>\n",
       "      <td>True</td>\n",
       "      <td>6873961.0</td>\n",
       "    </tr>\n",
       "    <tr>\n",
       "      <th>20717</th>\n",
       "      <td>SICK LEGEND</td>\n",
       "      <td>https://open.spotify.com/artist/3EYY5FwDkHEYLw...</td>\n",
       "      <td>MISS YOU HARDSTYLE</td>\n",
       "      <td>MISS YOU HARDSTYLE</td>\n",
       "      <td>single</td>\n",
       "      <td>spotify:track:6lOn0jz1QpjcWeXo1oMm0k</td>\n",
       "      <td>0,498</td>\n",
       "      <td>0,938</td>\n",
       "      <td>6,0</td>\n",
       "      <td>-4,543</td>\n",
       "      <td>0,107</td>\n",
       "      <td>0,00277</td>\n",
       "      <td>0,911</td>\n",
       "      <td>0.1360</td>\n",
       "      <td>0.0787</td>\n",
       "      <td>160.067</td>\n",
       "      <td>181500.0</td>\n",
       "      <td>https://www.youtube.com/watch?v=zau0dckCFi0</td>\n",
       "      <td>MISS YOU HARDSTYLE</td>\n",
       "      <td>SICK LEGEND - Topic</td>\n",
       "      <td>158697.0</td>\n",
       "      <td>2484.0</td>\n",
       "      <td>0.0</td>\n",
       "      <td>Provided to YouTube by Routenote\\n\\nMISS YOU H...</td>\n",
       "      <td>True</td>\n",
       "      <td>True</td>\n",
       "      <td>5695584.0</td>\n",
       "    </tr>\n",
       "  </tbody>\n",
       "</table>\n",
       "</div>"
      ],
      "text/plain": [
       "            Artist                                        Url_spotify  \\\n",
       "20713  SICK LEGEND  https://open.spotify.com/artist/3EYY5FwDkHEYLw...   \n",
       "20714  SICK LEGEND  https://open.spotify.com/artist/3EYY5FwDkHEYLw...   \n",
       "20715  SICK LEGEND  https://open.spotify.com/artist/3EYY5FwDkHEYLw...   \n",
       "20716  SICK LEGEND  https://open.spotify.com/artist/3EYY5FwDkHEYLw...   \n",
       "20717  SICK LEGEND  https://open.spotify.com/artist/3EYY5FwDkHEYLw...   \n",
       "\n",
       "                                Track                           Album  \\\n",
       "20713            JUST DANCE HARDSTYLE            JUST DANCE HARDSTYLE   \n",
       "20714  SET FIRE TO THE RAIN HARDSTYLE  SET FIRE TO THE RAIN HARDSTYLE   \n",
       "20715       OUTSIDE HARDSTYLE SPED UP       OUTSIDE HARDSTYLE SPED UP   \n",
       "20716             ONLY GIRL HARDSTYLE             ONLY GIRL HARDSTYLE   \n",
       "20717              MISS YOU HARDSTYLE              MISS YOU HARDSTYLE   \n",
       "\n",
       "      Album_type                                   Uri Danceability Energy  \\\n",
       "20713     single  spotify:track:0RtcKQGyI4hr8FgFH1TuYG        0,582  0,926   \n",
       "20714     single  spotify:track:3rHvPA8lUnPBkaLyPOc0VV        0,531  0,936   \n",
       "20715     single  spotify:track:4jk00YxPtPbhvHJE9N4ddv        0,443   0,83   \n",
       "20716     single  spotify:track:5EyErbpsugWliX006eTDex        0,417  0,767   \n",
       "20717     single  spotify:track:6lOn0jz1QpjcWeXo1oMm0k        0,498  0,938   \n",
       "\n",
       "       Key Loudness Speechiness Acousticness Instrumentalness  Liveness  \\\n",
       "20713  5,0   -6,344      0,0328        0,448              0,0    0.0839   \n",
       "20714  4,0   -1,786       0,137        0,028              0,0    0.0923   \n",
       "20715  4,0   -4,679      0,0647       0,0243              0,0    0.1540   \n",
       "20716  9,0   -4,004       0,419        0,356           0,0184    0.1080   \n",
       "20717  6,0   -4,543       0,107      0,00277            0,911    0.1360   \n",
       "\n",
       "       Valence    Tempo  Duration_ms  \\\n",
       "20713   0.6580   90.002      94667.0   \n",
       "20714   0.6570  174.869     150857.0   \n",
       "20715   0.4190  168.388     136842.0   \n",
       "20716   0.5390  155.378     108387.0   \n",
       "20717   0.0787  160.067     181500.0   \n",
       "\n",
       "                                       Url_youtube  \\\n",
       "20713  https://www.youtube.com/watch?v=5SHmKFKlNqI   \n",
       "20714  https://www.youtube.com/watch?v=ocTH6KxllDQ   \n",
       "20715  https://www.youtube.com/watch?v=5wFhE-HY0hg   \n",
       "20716  https://www.youtube.com/watch?v=VMFLbFRNCn0   \n",
       "20717  https://www.youtube.com/watch?v=zau0dckCFi0   \n",
       "\n",
       "                                Title              Channel     Views   Likes  \\\n",
       "20713            JUST DANCE HARDSTYLE  SICK LEGEND - Topic   71678.0  1113.0   \n",
       "20714  SET FIRE TO THE RAIN HARDSTYLE  SICK LEGEND - Topic  164741.0  2019.0   \n",
       "20715       OUTSIDE HARDSTYLE SPED UP  SICK LEGEND - Topic   35646.0   329.0   \n",
       "20716             ONLY GIRL HARDSTYLE  SICK LEGEND - Topic    6533.0    88.0   \n",
       "20717              MISS YOU HARDSTYLE  SICK LEGEND - Topic  158697.0  2484.0   \n",
       "\n",
       "       Comments                                        Description Licensed  \\\n",
       "20713       0.0  Provided to YouTube by Routenote\\n\\nJUST DANCE...     True   \n",
       "20714       0.0  Provided to YouTube by Routenote\\n\\nSET FIRE T...     True   \n",
       "20715       0.0  Provided to YouTube by Routenote\\n\\nOUTSIDE HA...     True   \n",
       "20716       0.0  Provided to YouTube by Routenote\\n\\nONLY GIRL ...     True   \n",
       "20717       0.0  Provided to YouTube by Routenote\\n\\nMISS YOU H...     True   \n",
       "\n",
       "      Official_video      Stream  \n",
       "20713           True   9227144.0  \n",
       "20714           True  10898176.0  \n",
       "20715           True   6226110.0  \n",
       "20716           True   6873961.0  \n",
       "20717           True   5695584.0  "
      ]
     },
     "execution_count": 145,
     "metadata": {},
     "output_type": "execute_result"
    }
   ],
   "source": [
    "df_spotify.tail()"
   ]
  },
  {
   "cell_type": "markdown",
   "metadata": {},
   "source": [
    "- 10 filas aleatorias del dataframe\n"
   ]
  },
  {
   "cell_type": "code",
   "execution_count": 146,
   "metadata": {},
   "outputs": [
    {
     "data": {
      "text/html": [
       "<div>\n",
       "<style scoped>\n",
       "    .dataframe tbody tr th:only-of-type {\n",
       "        vertical-align: middle;\n",
       "    }\n",
       "\n",
       "    .dataframe tbody tr th {\n",
       "        vertical-align: top;\n",
       "    }\n",
       "\n",
       "    .dataframe thead th {\n",
       "        text-align: right;\n",
       "    }\n",
       "</style>\n",
       "<table border=\"1\" class=\"dataframe\">\n",
       "  <thead>\n",
       "    <tr style=\"text-align: right;\">\n",
       "      <th></th>\n",
       "      <th>Artist</th>\n",
       "      <th>Url_spotify</th>\n",
       "      <th>Track</th>\n",
       "      <th>Album</th>\n",
       "      <th>Album_type</th>\n",
       "      <th>Uri</th>\n",
       "      <th>Danceability</th>\n",
       "      <th>Energy</th>\n",
       "      <th>Key</th>\n",
       "      <th>Loudness</th>\n",
       "      <th>Speechiness</th>\n",
       "      <th>Acousticness</th>\n",
       "      <th>Instrumentalness</th>\n",
       "      <th>Liveness</th>\n",
       "      <th>Valence</th>\n",
       "      <th>Tempo</th>\n",
       "      <th>Duration_ms</th>\n",
       "      <th>Url_youtube</th>\n",
       "      <th>Title</th>\n",
       "      <th>Channel</th>\n",
       "      <th>Views</th>\n",
       "      <th>Likes</th>\n",
       "      <th>Comments</th>\n",
       "      <th>Description</th>\n",
       "      <th>Licensed</th>\n",
       "      <th>Official_video</th>\n",
       "      <th>Stream</th>\n",
       "    </tr>\n",
       "  </thead>\n",
       "  <tbody>\n",
       "    <tr>\n",
       "      <th>2776</th>\n",
       "      <td>Laura Pausini</td>\n",
       "      <td>https://open.spotify.com/artist/2e4nwiX8ZCU09L...</td>\n",
       "      <td>En cambio no</td>\n",
       "      <td>Primavera anticipada</td>\n",
       "      <td>album</td>\n",
       "      <td>spotify:track:6ea3gVkbrhghwfoio3NFpi</td>\n",
       "      <td>0,536</td>\n",
       "      <td>0,378</td>\n",
       "      <td>0,0</td>\n",
       "      <td>-6,702</td>\n",
       "      <td>0,0266</td>\n",
       "      <td>0,53</td>\n",
       "      <td>0,0</td>\n",
       "      <td>0.1150</td>\n",
       "      <td>0.147</td>\n",
       "      <td>133.858</td>\n",
       "      <td>237440.0</td>\n",
       "      <td>https://www.youtube.com/watch?v=0-3h5fGyT5o</td>\n",
       "      <td>Laura Pausini - En Cambio No (Official Music V...</td>\n",
       "      <td>Warner Música</td>\n",
       "      <td>174834547.0</td>\n",
       "      <td>837998.0</td>\n",
       "      <td>22622.0</td>\n",
       "      <td>Laura Pausini - En Cambio No - Consigue el tem...</td>\n",
       "      <td>True</td>\n",
       "      <td>True</td>\n",
       "      <td>109836364.0</td>\n",
       "    </tr>\n",
       "    <tr>\n",
       "      <th>6304</th>\n",
       "      <td>Diego Torres</td>\n",
       "      <td>https://open.spotify.com/artist/0LALueHEQunQ2d...</td>\n",
       "      <td>Tratar de Estar Mejor</td>\n",
       "      <td>Tratar De Estar Mejor</td>\n",
       "      <td>album</td>\n",
       "      <td>spotify:track:0ylZTq7l4Oij4dHhu9at7n</td>\n",
       "      <td>0,704</td>\n",
       "      <td>0,542</td>\n",
       "      <td>2,0</td>\n",
       "      <td>-10,047</td>\n",
       "      <td>0,0339</td>\n",
       "      <td>0,0326</td>\n",
       "      <td>0,0</td>\n",
       "      <td>0.0499</td>\n",
       "      <td>0.381</td>\n",
       "      <td>85.994</td>\n",
       "      <td>215360.0</td>\n",
       "      <td>https://www.youtube.com/watch?v=ML9QIhUE5Vc</td>\n",
       "      <td>Diego Torres - Tratar De Estar Mejor (Official...</td>\n",
       "      <td>diegotorresVEVO</td>\n",
       "      <td>24700679.0</td>\n",
       "      <td>109200.0</td>\n",
       "      <td>5469.0</td>\n",
       "      <td>Diego Torres - Tratar de Estar Mejor (Official...</td>\n",
       "      <td>True</td>\n",
       "      <td>True</td>\n",
       "      <td>32102854.0</td>\n",
       "    </tr>\n",
       "    <tr>\n",
       "      <th>16119</th>\n",
       "      <td>5 Seconds of Summer</td>\n",
       "      <td>https://open.spotify.com/artist/5Rl15oVamLq7Fb...</td>\n",
       "      <td>Teeth</td>\n",
       "      <td>13 Reasons Why (Season 3)</td>\n",
       "      <td>album</td>\n",
       "      <td>spotify:track:26wLOs3ZuHJa2Ihhx6QIE6</td>\n",
       "      <td>0,756</td>\n",
       "      <td>0,448</td>\n",
       "      <td>3,0</td>\n",
       "      <td>-2,993</td>\n",
       "      <td>0,0404</td>\n",
       "      <td>0,0508</td>\n",
       "      <td>3,87e-06</td>\n",
       "      <td>0.1100</td>\n",
       "      <td>0.431</td>\n",
       "      <td>139.031</td>\n",
       "      <td>204887.0</td>\n",
       "      <td>https://www.youtube.com/watch?v=JWeJHN5P-E8</td>\n",
       "      <td>5 Seconds of Summer - Teeth (Official Video)</td>\n",
       "      <td>5SOSVEVO</td>\n",
       "      <td>121967027.0</td>\n",
       "      <td>2274114.0</td>\n",
       "      <td>43858.0</td>\n",
       "      <td>C A L M // OUT NOW: http://smarturl.it/CALM5SO...</td>\n",
       "      <td>True</td>\n",
       "      <td>True</td>\n",
       "      <td>502081353.0</td>\n",
       "    </tr>\n",
       "    <tr>\n",
       "      <th>778</th>\n",
       "      <td>Madonna</td>\n",
       "      <td>https://open.spotify.com/artist/6tbjWDEIzxoDsB...</td>\n",
       "      <td>Hung Up</td>\n",
       "      <td>Confessions on a Dance Floor</td>\n",
       "      <td>album</td>\n",
       "      <td>spotify:track:3850dYVgOFIXJh5U4BFEWH</td>\n",
       "      <td>0,649</td>\n",
       "      <td>0,647</td>\n",
       "      <td>9,0</td>\n",
       "      <td>-7,695</td>\n",
       "      <td>0,0452</td>\n",
       "      <td>0,0039</td>\n",
       "      <td>0,161</td>\n",
       "      <td>0.0686</td>\n",
       "      <td>0.405</td>\n",
       "      <td>125.020</td>\n",
       "      <td>337733.0</td>\n",
       "      <td>https://www.youtube.com/watch?v=EDwb9jOVRtU</td>\n",
       "      <td>Madonna - Hung Up (Official Video) [HD]</td>\n",
       "      <td>Madonna</td>\n",
       "      <td>411386702.0</td>\n",
       "      <td>2131722.0</td>\n",
       "      <td>91173.0</td>\n",
       "      <td>Stream: https://apple.co/3v7LSbT\\n\\nYou’re wat...</td>\n",
       "      <td>True</td>\n",
       "      <td>True</td>\n",
       "      <td>297817394.0</td>\n",
       "    </tr>\n",
       "    <tr>\n",
       "      <th>8782</th>\n",
       "      <td>Benny Benassi</td>\n",
       "      <td>https://open.spotify.com/artist/4Ws2otunReOa6B...</td>\n",
       "      <td>Cinema</td>\n",
       "      <td>Electroman</td>\n",
       "      <td>album</td>\n",
       "      <td>spotify:track:4jKeYH0Gwq2PE3YYSClzM9</td>\n",
       "      <td>0,482</td>\n",
       "      <td>0,841</td>\n",
       "      <td>9,0</td>\n",
       "      <td>-2,622</td>\n",
       "      <td>0,0607</td>\n",
       "      <td>0,0809</td>\n",
       "      <td>0,0</td>\n",
       "      <td>0.2140</td>\n",
       "      <td>0.424</td>\n",
       "      <td>129.818</td>\n",
       "      <td>183231.0</td>\n",
       "      <td>https://www.youtube.com/watch?v=kxI2g1I9s5Q</td>\n",
       "      <td>Benny Benassi ft. Gary Go - Cinema (Official V...</td>\n",
       "      <td>Kontor.TV</td>\n",
       "      <td>5783310.0</td>\n",
       "      <td>48356.0</td>\n",
       "      <td>1959.0</td>\n",
       "      <td>Get it here:\\n \\niTunes: http://bit.ly/OOwDZy\\...</td>\n",
       "      <td>False</td>\n",
       "      <td>False</td>\n",
       "      <td>52818567.0</td>\n",
       "    </tr>\n",
       "    <tr>\n",
       "      <th>10363</th>\n",
       "      <td>MK</td>\n",
       "      <td>https://open.spotify.com/artist/1yqxFtPHKcGcv6...</td>\n",
       "      <td>Look Right Through - MK Vocal Edit</td>\n",
       "      <td>Look Right Through (MK Vocal Edit)</td>\n",
       "      <td>single</td>\n",
       "      <td>spotify:track:3BwdpAX6znmJdyixiCFxpN</td>\n",
       "      <td>0,834</td>\n",
       "      <td>0,819</td>\n",
       "      <td>0,0</td>\n",
       "      <td>-7,989</td>\n",
       "      <td>0,0841</td>\n",
       "      <td>0,00212</td>\n",
       "      <td>0,00306</td>\n",
       "      <td>0.2790</td>\n",
       "      <td>0.513</td>\n",
       "      <td>119.990</td>\n",
       "      <td>148389.0</td>\n",
       "      <td>https://www.youtube.com/watch?v=Mc-p1z-ruPs</td>\n",
       "      <td>Storm Queen - Look Right Through (MK Vocal Rad...</td>\n",
       "      <td>Spinnin' Records</td>\n",
       "      <td>833893.0</td>\n",
       "      <td>6183.0</td>\n",
       "      <td>203.0</td>\n",
       "      <td>Download on iTunes: http://smarturl.it/stormqu...</td>\n",
       "      <td>False</td>\n",
       "      <td>False</td>\n",
       "      <td>54196639.0</td>\n",
       "    </tr>\n",
       "    <tr>\n",
       "      <th>11236</th>\n",
       "      <td>Phil Wickham</td>\n",
       "      <td>https://open.spotify.com/artist/5d1JhBfyb58upM...</td>\n",
       "      <td>Battle Belongs</td>\n",
       "      <td>Hymn Of Heaven</td>\n",
       "      <td>album</td>\n",
       "      <td>spotify:track:1KYw86zGpAE1Cvl734nlrT</td>\n",
       "      <td>0,363</td>\n",
       "      <td>0,789</td>\n",
       "      <td>1,0</td>\n",
       "      <td>-5,397</td>\n",
       "      <td>0,0469</td>\n",
       "      <td>0,00206</td>\n",
       "      <td>0,0</td>\n",
       "      <td>0.1130</td>\n",
       "      <td>0.345</td>\n",
       "      <td>161.798</td>\n",
       "      <td>287533.0</td>\n",
       "      <td>https://www.youtube.com/watch?v=qtvQNzPHn-w</td>\n",
       "      <td>Phil Wickham - Battle Belongs (Official Music ...</td>\n",
       "      <td>PhilWickhamVEVO</td>\n",
       "      <td>22343102.0</td>\n",
       "      <td>215083.0</td>\n",
       "      <td>7030.0</td>\n",
       "      <td>Official music video of Phil Wickham’s new sin...</td>\n",
       "      <td>True</td>\n",
       "      <td>True</td>\n",
       "      <td>38953052.0</td>\n",
       "    </tr>\n",
       "    <tr>\n",
       "      <th>7015</th>\n",
       "      <td>Michael Bolton</td>\n",
       "      <td>https://open.spotify.com/artist/6YHEMoNPbcheiW...</td>\n",
       "      <td>Go the Distance</td>\n",
       "      <td>All That Matters</td>\n",
       "      <td>album</td>\n",
       "      <td>spotify:track:3hS5RCp5EE1wUiiE7f8dM1</td>\n",
       "      <td>0,363</td>\n",
       "      <td>0,435</td>\n",
       "      <td>2,0</td>\n",
       "      <td>-8,141</td>\n",
       "      <td>0,0307</td>\n",
       "      <td>0,399</td>\n",
       "      <td>0,0</td>\n",
       "      <td>0.2190</td>\n",
       "      <td>0.148</td>\n",
       "      <td>125.892</td>\n",
       "      <td>280640.0</td>\n",
       "      <td>https://www.youtube.com/watch?v=vRAu4kvpmEs</td>\n",
       "      <td>Hercules OST \"Go The Distance\" by Michael Bolton</td>\n",
       "      <td>Animated TV Series</td>\n",
       "      <td>5840643.0</td>\n",
       "      <td>51818.0</td>\n",
       "      <td>4716.0</td>\n",
       "      <td>That song inspire me so much! I hope that insp...</td>\n",
       "      <td>False</td>\n",
       "      <td>False</td>\n",
       "      <td>39951724.0</td>\n",
       "    </tr>\n",
       "    <tr>\n",
       "      <th>9233</th>\n",
       "      <td>Liberación</td>\n",
       "      <td>https://open.spotify.com/artist/5xwugJ4uudppmO...</td>\n",
       "      <td>Por Esa Yegua</td>\n",
       "      <td>Con La Fuerza Del Destino</td>\n",
       "      <td>album</td>\n",
       "      <td>spotify:track:0tGAa4JOqxZ9DhsEQrkpZy</td>\n",
       "      <td>0,756</td>\n",
       "      <td>0,752</td>\n",
       "      <td>0,0</td>\n",
       "      <td>-5,06</td>\n",
       "      <td>0,0548</td>\n",
       "      <td>0,464</td>\n",
       "      <td>0,0</td>\n",
       "      <td>0.0423</td>\n",
       "      <td>0.885</td>\n",
       "      <td>100.659</td>\n",
       "      <td>181773.0</td>\n",
       "      <td>https://www.youtube.com/watch?v=obdKtOz78Fw</td>\n",
       "      <td>Liberación - Por Esa Yegüa</td>\n",
       "      <td>LiberacionVEVO</td>\n",
       "      <td>11920465.0</td>\n",
       "      <td>46297.0</td>\n",
       "      <td>682.0</td>\n",
       "      <td>Music video by Liberación performing Por Esa Y...</td>\n",
       "      <td>True</td>\n",
       "      <td>True</td>\n",
       "      <td>15127162.0</td>\n",
       "    </tr>\n",
       "    <tr>\n",
       "      <th>1931</th>\n",
       "      <td>Los Tucanes De Tijuana</td>\n",
       "      <td>https://open.spotify.com/artist/014WIDx7H4BRCH...</td>\n",
       "      <td>Mis Tres Viejas</td>\n",
       "      <td>Corridos De Primera Plana</td>\n",
       "      <td>album</td>\n",
       "      <td>spotify:track:1yxJIFPhP2EqnQ6oWJKbmP</td>\n",
       "      <td>0,92</td>\n",
       "      <td>0,629</td>\n",
       "      <td>10,0</td>\n",
       "      <td>-4,717</td>\n",
       "      <td>0,0343</td>\n",
       "      <td>0,523</td>\n",
       "      <td>0,0</td>\n",
       "      <td>0.1160</td>\n",
       "      <td>0.968</td>\n",
       "      <td>98.865</td>\n",
       "      <td>162840.0</td>\n",
       "      <td>https://www.youtube.com/watch?v=h9dUWK3GKzw</td>\n",
       "      <td>mis tres viejas - los tucanes de tijuana - vid...</td>\n",
       "      <td>DjRayMix - El Original</td>\n",
       "      <td>255455.0</td>\n",
       "      <td>1107.0</td>\n",
       "      <td>21.0</td>\n",
       "      <td>mis tres viejas!\\nmari\\nblanca\\ny la negra\\n\\n...</td>\n",
       "      <td>False</td>\n",
       "      <td>False</td>\n",
       "      <td>105103490.0</td>\n",
       "    </tr>\n",
       "  </tbody>\n",
       "</table>\n",
       "</div>"
      ],
      "text/plain": [
       "                       Artist  \\\n",
       "2776            Laura Pausini   \n",
       "6304             Diego Torres   \n",
       "16119     5 Seconds of Summer   \n",
       "778                   Madonna   \n",
       "8782            Benny Benassi   \n",
       "10363                      MK   \n",
       "11236            Phil Wickham   \n",
       "7015           Michael Bolton   \n",
       "9233               Liberación   \n",
       "1931   Los Tucanes De Tijuana   \n",
       "\n",
       "                                             Url_spotify  \\\n",
       "2776   https://open.spotify.com/artist/2e4nwiX8ZCU09L...   \n",
       "6304   https://open.spotify.com/artist/0LALueHEQunQ2d...   \n",
       "16119  https://open.spotify.com/artist/5Rl15oVamLq7Fb...   \n",
       "778    https://open.spotify.com/artist/6tbjWDEIzxoDsB...   \n",
       "8782   https://open.spotify.com/artist/4Ws2otunReOa6B...   \n",
       "10363  https://open.spotify.com/artist/1yqxFtPHKcGcv6...   \n",
       "11236  https://open.spotify.com/artist/5d1JhBfyb58upM...   \n",
       "7015   https://open.spotify.com/artist/6YHEMoNPbcheiW...   \n",
       "9233   https://open.spotify.com/artist/5xwugJ4uudppmO...   \n",
       "1931   https://open.spotify.com/artist/014WIDx7H4BRCH...   \n",
       "\n",
       "                                    Track                               Album  \\\n",
       "2776                         En cambio no                Primavera anticipada   \n",
       "6304                Tratar de Estar Mejor               Tratar De Estar Mejor   \n",
       "16119                               Teeth           13 Reasons Why (Season 3)   \n",
       "778                               Hung Up        Confessions on a Dance Floor   \n",
       "8782                               Cinema                          Electroman   \n",
       "10363  Look Right Through - MK Vocal Edit  Look Right Through (MK Vocal Edit)   \n",
       "11236                      Battle Belongs                      Hymn Of Heaven   \n",
       "7015                      Go the Distance                    All That Matters   \n",
       "9233                        Por Esa Yegua           Con La Fuerza Del Destino   \n",
       "1931                      Mis Tres Viejas           Corridos De Primera Plana   \n",
       "\n",
       "      Album_type                                   Uri Danceability Energy  \\\n",
       "2776       album  spotify:track:6ea3gVkbrhghwfoio3NFpi        0,536  0,378   \n",
       "6304       album  spotify:track:0ylZTq7l4Oij4dHhu9at7n        0,704  0,542   \n",
       "16119      album  spotify:track:26wLOs3ZuHJa2Ihhx6QIE6        0,756  0,448   \n",
       "778        album  spotify:track:3850dYVgOFIXJh5U4BFEWH        0,649  0,647   \n",
       "8782       album  spotify:track:4jKeYH0Gwq2PE3YYSClzM9        0,482  0,841   \n",
       "10363     single  spotify:track:3BwdpAX6znmJdyixiCFxpN        0,834  0,819   \n",
       "11236      album  spotify:track:1KYw86zGpAE1Cvl734nlrT        0,363  0,789   \n",
       "7015       album  spotify:track:3hS5RCp5EE1wUiiE7f8dM1        0,363  0,435   \n",
       "9233       album  spotify:track:0tGAa4JOqxZ9DhsEQrkpZy        0,756  0,752   \n",
       "1931       album  spotify:track:1yxJIFPhP2EqnQ6oWJKbmP         0,92  0,629   \n",
       "\n",
       "        Key Loudness Speechiness Acousticness Instrumentalness  Liveness  \\\n",
       "2776    0,0   -6,702      0,0266         0,53              0,0    0.1150   \n",
       "6304    2,0  -10,047      0,0339       0,0326              0,0    0.0499   \n",
       "16119   3,0   -2,993      0,0404       0,0508         3,87e-06    0.1100   \n",
       "778     9,0   -7,695      0,0452       0,0039            0,161    0.0686   \n",
       "8782    9,0   -2,622      0,0607       0,0809              0,0    0.2140   \n",
       "10363   0,0   -7,989      0,0841      0,00212          0,00306    0.2790   \n",
       "11236   1,0   -5,397      0,0469      0,00206              0,0    0.1130   \n",
       "7015    2,0   -8,141      0,0307        0,399              0,0    0.2190   \n",
       "9233    0,0    -5,06      0,0548        0,464              0,0    0.0423   \n",
       "1931   10,0   -4,717      0,0343        0,523              0,0    0.1160   \n",
       "\n",
       "       Valence    Tempo  Duration_ms  \\\n",
       "2776     0.147  133.858     237440.0   \n",
       "6304     0.381   85.994     215360.0   \n",
       "16119    0.431  139.031     204887.0   \n",
       "778      0.405  125.020     337733.0   \n",
       "8782     0.424  129.818     183231.0   \n",
       "10363    0.513  119.990     148389.0   \n",
       "11236    0.345  161.798     287533.0   \n",
       "7015     0.148  125.892     280640.0   \n",
       "9233     0.885  100.659     181773.0   \n",
       "1931     0.968   98.865     162840.0   \n",
       "\n",
       "                                       Url_youtube  \\\n",
       "2776   https://www.youtube.com/watch?v=0-3h5fGyT5o   \n",
       "6304   https://www.youtube.com/watch?v=ML9QIhUE5Vc   \n",
       "16119  https://www.youtube.com/watch?v=JWeJHN5P-E8   \n",
       "778    https://www.youtube.com/watch?v=EDwb9jOVRtU   \n",
       "8782   https://www.youtube.com/watch?v=kxI2g1I9s5Q   \n",
       "10363  https://www.youtube.com/watch?v=Mc-p1z-ruPs   \n",
       "11236  https://www.youtube.com/watch?v=qtvQNzPHn-w   \n",
       "7015   https://www.youtube.com/watch?v=vRAu4kvpmEs   \n",
       "9233   https://www.youtube.com/watch?v=obdKtOz78Fw   \n",
       "1931   https://www.youtube.com/watch?v=h9dUWK3GKzw   \n",
       "\n",
       "                                                   Title  \\\n",
       "2776   Laura Pausini - En Cambio No (Official Music V...   \n",
       "6304   Diego Torres - Tratar De Estar Mejor (Official...   \n",
       "16119       5 Seconds of Summer - Teeth (Official Video)   \n",
       "778              Madonna - Hung Up (Official Video) [HD]   \n",
       "8782   Benny Benassi ft. Gary Go - Cinema (Official V...   \n",
       "10363  Storm Queen - Look Right Through (MK Vocal Rad...   \n",
       "11236  Phil Wickham - Battle Belongs (Official Music ...   \n",
       "7015    Hercules OST \"Go The Distance\" by Michael Bolton   \n",
       "9233                          Liberación - Por Esa Yegüa   \n",
       "1931   mis tres viejas - los tucanes de tijuana - vid...   \n",
       "\n",
       "                      Channel        Views      Likes  Comments  \\\n",
       "2776            Warner Música  174834547.0   837998.0   22622.0   \n",
       "6304          diegotorresVEVO   24700679.0   109200.0    5469.0   \n",
       "16119                5SOSVEVO  121967027.0  2274114.0   43858.0   \n",
       "778                   Madonna  411386702.0  2131722.0   91173.0   \n",
       "8782                Kontor.TV    5783310.0    48356.0    1959.0   \n",
       "10363        Spinnin' Records     833893.0     6183.0     203.0   \n",
       "11236         PhilWickhamVEVO   22343102.0   215083.0    7030.0   \n",
       "7015       Animated TV Series    5840643.0    51818.0    4716.0   \n",
       "9233           LiberacionVEVO   11920465.0    46297.0     682.0   \n",
       "1931   DjRayMix - El Original     255455.0     1107.0      21.0   \n",
       "\n",
       "                                             Description Licensed  \\\n",
       "2776   Laura Pausini - En Cambio No - Consigue el tem...     True   \n",
       "6304   Diego Torres - Tratar de Estar Mejor (Official...     True   \n",
       "16119  C A L M // OUT NOW: http://smarturl.it/CALM5SO...     True   \n",
       "778    Stream: https://apple.co/3v7LSbT\\n\\nYou’re wat...     True   \n",
       "8782   Get it here:\\n \\niTunes: http://bit.ly/OOwDZy\\...    False   \n",
       "10363  Download on iTunes: http://smarturl.it/stormqu...    False   \n",
       "11236  Official music video of Phil Wickham’s new sin...     True   \n",
       "7015   That song inspire me so much! I hope that insp...    False   \n",
       "9233   Music video by Liberación performing Por Esa Y...     True   \n",
       "1931   mis tres viejas!\\nmari\\nblanca\\ny la negra\\n\\n...    False   \n",
       "\n",
       "      Official_video       Stream  \n",
       "2776            True  109836364.0  \n",
       "6304            True   32102854.0  \n",
       "16119           True  502081353.0  \n",
       "778             True  297817394.0  \n",
       "8782           False   52818567.0  \n",
       "10363          False   54196639.0  \n",
       "11236           True   38953052.0  \n",
       "7015           False   39951724.0  \n",
       "9233            True   15127162.0  \n",
       "1931           False  105103490.0  "
      ]
     },
     "execution_count": 146,
     "metadata": {},
     "output_type": "execute_result"
    }
   ],
   "source": [
    "df_spotify.sample(10)"
   ]
  },
  {
   "cell_type": "markdown",
   "metadata": {},
   "source": [
    "- ¿Cuántas filas y columnas tenemos en el dataframe?"
   ]
  },
  {
   "cell_type": "code",
   "execution_count": 147,
   "metadata": {},
   "outputs": [
    {
     "data": {
      "text/plain": [
       "(20718, 27)"
      ]
     },
     "execution_count": 147,
     "metadata": {},
     "output_type": "execute_result"
    }
   ],
   "source": [
    "df_spotify.shape"
   ]
  },
  {
   "cell_type": "markdown",
   "metadata": {},
   "source": [
    "- ¿Cuáles son los tipos de los datos de cada columna del dataframe?"
   ]
  },
  {
   "cell_type": "code",
   "execution_count": 148,
   "metadata": {},
   "outputs": [
    {
     "data": {
      "text/plain": [
       "Artist               object\n",
       "Url_spotify          object\n",
       "Track                object\n",
       "Album                object\n",
       "Album_type           object\n",
       "Uri                  object\n",
       "Danceability         object\n",
       "Energy               object\n",
       "Key                  object\n",
       "Loudness             object\n",
       "Speechiness          object\n",
       "Acousticness         object\n",
       "Instrumentalness     object\n",
       "Liveness            float64\n",
       "Valence             float64\n",
       "Tempo               float64\n",
       "Duration_ms         float64\n",
       "Url_youtube          object\n",
       "Title                object\n",
       "Channel              object\n",
       "Views               float64\n",
       "Likes               float64\n",
       "Comments            float64\n",
       "Description          object\n",
       "Licensed             object\n",
       "Official_video       object\n",
       "Stream              float64\n",
       "dtype: object"
      ]
     },
     "execution_count": 148,
     "metadata": {},
     "output_type": "execute_result"
    }
   ],
   "source": [
    "df_spotify.dtypes"
   ]
  },
  {
   "cell_type": "markdown",
   "metadata": {},
   "source": [
    "- ¿Cuántos valores nulos tenemos por columna?"
   ]
  },
  {
   "cell_type": "code",
   "execution_count": 149,
   "metadata": {},
   "outputs": [
    {
     "data": {
      "text/plain": [
       "Artist                0\n",
       "Url_spotify           0\n",
       "Track                 0\n",
       "Album                 0\n",
       "Album_type            0\n",
       "Uri                   0\n",
       "Danceability          2\n",
       "Energy                2\n",
       "Key                   2\n",
       "Loudness              2\n",
       "Speechiness           2\n",
       "Acousticness          2\n",
       "Instrumentalness      2\n",
       "Liveness              2\n",
       "Valence               2\n",
       "Tempo                 2\n",
       "Duration_ms           2\n",
       "Url_youtube         470\n",
       "Title               470\n",
       "Channel             470\n",
       "Views               470\n",
       "Likes               541\n",
       "Comments            569\n",
       "Description         876\n",
       "Licensed            470\n",
       "Official_video      470\n",
       "Stream              576\n",
       "dtype: int64"
      ]
     },
     "execution_count": 149,
     "metadata": {},
     "output_type": "execute_result"
    }
   ],
   "source": [
    "df_spotify.isnull().sum()"
   ]
  },
  {
   "cell_type": "markdown",
   "metadata": {},
   "source": [
    "- ¿Tenemos filas duplicadas en el dataframe ?"
   ]
  },
  {
   "cell_type": "code",
   "execution_count": 150,
   "metadata": {},
   "outputs": [
    {
     "data": {
      "text/plain": [
       "0"
      ]
     },
     "execution_count": 150,
     "metadata": {},
     "output_type": "execute_result"
    }
   ],
   "source": [
    "df_spotify.duplicated().sum()"
   ]
  },
  {
   "cell_type": "markdown",
   "metadata": {},
   "source": [
    "- Muestra los principales estadísticos para las columnas numéricas del dataframe"
   ]
  },
  {
   "cell_type": "code",
   "execution_count": 151,
   "metadata": {},
   "outputs": [
    {
     "data": {
      "text/html": [
       "<div>\n",
       "<style scoped>\n",
       "    .dataframe tbody tr th:only-of-type {\n",
       "        vertical-align: middle;\n",
       "    }\n",
       "\n",
       "    .dataframe tbody tr th {\n",
       "        vertical-align: top;\n",
       "    }\n",
       "\n",
       "    .dataframe thead th {\n",
       "        text-align: right;\n",
       "    }\n",
       "</style>\n",
       "<table border=\"1\" class=\"dataframe\">\n",
       "  <thead>\n",
       "    <tr style=\"text-align: right;\">\n",
       "      <th></th>\n",
       "      <th>count</th>\n",
       "      <th>mean</th>\n",
       "      <th>std</th>\n",
       "      <th>min</th>\n",
       "      <th>25%</th>\n",
       "      <th>50%</th>\n",
       "      <th>75%</th>\n",
       "      <th>max</th>\n",
       "    </tr>\n",
       "  </thead>\n",
       "  <tbody>\n",
       "    <tr>\n",
       "      <th>Liveness</th>\n",
       "      <td>20716.0</td>\n",
       "      <td>1.935210e-01</td>\n",
       "      <td>1.685309e-01</td>\n",
       "      <td>0.0145</td>\n",
       "      <td>9.410000e-02</td>\n",
       "      <td>1.250000e-01</td>\n",
       "      <td>2.370000e-01</td>\n",
       "      <td>1.000000e+00</td>\n",
       "    </tr>\n",
       "    <tr>\n",
       "      <th>Valence</th>\n",
       "      <td>20716.0</td>\n",
       "      <td>5.298533e-01</td>\n",
       "      <td>2.454408e-01</td>\n",
       "      <td>0.0000</td>\n",
       "      <td>3.390000e-01</td>\n",
       "      <td>5.370000e-01</td>\n",
       "      <td>7.262500e-01</td>\n",
       "      <td>9.930000e-01</td>\n",
       "    </tr>\n",
       "    <tr>\n",
       "      <th>Tempo</th>\n",
       "      <td>20716.0</td>\n",
       "      <td>1.206383e+02</td>\n",
       "      <td>2.957902e+01</td>\n",
       "      <td>0.0000</td>\n",
       "      <td>9.700200e+01</td>\n",
       "      <td>1.199650e+02</td>\n",
       "      <td>1.399350e+02</td>\n",
       "      <td>2.433720e+02</td>\n",
       "    </tr>\n",
       "    <tr>\n",
       "      <th>Duration_ms</th>\n",
       "      <td>20716.0</td>\n",
       "      <td>2.247176e+05</td>\n",
       "      <td>1.247905e+05</td>\n",
       "      <td>30985.0000</td>\n",
       "      <td>1.800095e+05</td>\n",
       "      <td>2.132845e+05</td>\n",
       "      <td>2.524430e+05</td>\n",
       "      <td>4.676058e+06</td>\n",
       "    </tr>\n",
       "    <tr>\n",
       "      <th>Views</th>\n",
       "      <td>20248.0</td>\n",
       "      <td>9.393782e+07</td>\n",
       "      <td>2.746443e+08</td>\n",
       "      <td>0.0000</td>\n",
       "      <td>1.826002e+06</td>\n",
       "      <td>1.450110e+07</td>\n",
       "      <td>7.039975e+07</td>\n",
       "      <td>8.079649e+09</td>\n",
       "    </tr>\n",
       "    <tr>\n",
       "      <th>Likes</th>\n",
       "      <td>20177.0</td>\n",
       "      <td>6.633411e+05</td>\n",
       "      <td>1.789324e+06</td>\n",
       "      <td>0.0000</td>\n",
       "      <td>2.158100e+04</td>\n",
       "      <td>1.244810e+05</td>\n",
       "      <td>5.221480e+05</td>\n",
       "      <td>5.078865e+07</td>\n",
       "    </tr>\n",
       "    <tr>\n",
       "      <th>Comments</th>\n",
       "      <td>20149.0</td>\n",
       "      <td>2.751899e+04</td>\n",
       "      <td>1.932347e+05</td>\n",
       "      <td>0.0000</td>\n",
       "      <td>5.090000e+02</td>\n",
       "      <td>3.277000e+03</td>\n",
       "      <td>1.436000e+04</td>\n",
       "      <td>1.608314e+07</td>\n",
       "    </tr>\n",
       "    <tr>\n",
       "      <th>Stream</th>\n",
       "      <td>20142.0</td>\n",
       "      <td>1.359422e+08</td>\n",
       "      <td>2.441321e+08</td>\n",
       "      <td>6574.0000</td>\n",
       "      <td>1.767486e+07</td>\n",
       "      <td>4.968298e+07</td>\n",
       "      <td>1.383581e+08</td>\n",
       "      <td>3.386520e+09</td>\n",
       "    </tr>\n",
       "  </tbody>\n",
       "</table>\n",
       "</div>"
      ],
      "text/plain": [
       "               count          mean           std         min           25%  \\\n",
       "Liveness     20716.0  1.935210e-01  1.685309e-01      0.0145  9.410000e-02   \n",
       "Valence      20716.0  5.298533e-01  2.454408e-01      0.0000  3.390000e-01   \n",
       "Tempo        20716.0  1.206383e+02  2.957902e+01      0.0000  9.700200e+01   \n",
       "Duration_ms  20716.0  2.247176e+05  1.247905e+05  30985.0000  1.800095e+05   \n",
       "Views        20248.0  9.393782e+07  2.746443e+08      0.0000  1.826002e+06   \n",
       "Likes        20177.0  6.633411e+05  1.789324e+06      0.0000  2.158100e+04   \n",
       "Comments     20149.0  2.751899e+04  1.932347e+05      0.0000  5.090000e+02   \n",
       "Stream       20142.0  1.359422e+08  2.441321e+08   6574.0000  1.767486e+07   \n",
       "\n",
       "                      50%           75%           max  \n",
       "Liveness     1.250000e-01  2.370000e-01  1.000000e+00  \n",
       "Valence      5.370000e-01  7.262500e-01  9.930000e-01  \n",
       "Tempo        1.199650e+02  1.399350e+02  2.433720e+02  \n",
       "Duration_ms  2.132845e+05  2.524430e+05  4.676058e+06  \n",
       "Views        1.450110e+07  7.039975e+07  8.079649e+09  \n",
       "Likes        1.244810e+05  5.221480e+05  5.078865e+07  \n",
       "Comments     3.277000e+03  1.436000e+04  1.608314e+07  \n",
       "Stream       4.968298e+07  1.383581e+08  3.386520e+09  "
      ]
     },
     "execution_count": 151,
     "metadata": {},
     "output_type": "execute_result"
    }
   ],
   "source": [
    "df_spotify.describe().T"
   ]
  },
  {
   "cell_type": "markdown",
   "metadata": {},
   "source": [
    "- Muestra los principales estadísticos para las columnas categóricas del dataframe"
   ]
  },
  {
   "cell_type": "code",
   "execution_count": 152,
   "metadata": {},
   "outputs": [
    {
     "data": {
      "text/html": [
       "<div>\n",
       "<style scoped>\n",
       "    .dataframe tbody tr th:only-of-type {\n",
       "        vertical-align: middle;\n",
       "    }\n",
       "\n",
       "    .dataframe tbody tr th {\n",
       "        vertical-align: top;\n",
       "    }\n",
       "\n",
       "    .dataframe thead th {\n",
       "        text-align: right;\n",
       "    }\n",
       "</style>\n",
       "<table border=\"1\" class=\"dataframe\">\n",
       "  <thead>\n",
       "    <tr style=\"text-align: right;\">\n",
       "      <th></th>\n",
       "      <th>count</th>\n",
       "      <th>unique</th>\n",
       "      <th>top</th>\n",
       "      <th>freq</th>\n",
       "    </tr>\n",
       "  </thead>\n",
       "  <tbody>\n",
       "    <tr>\n",
       "      <th>Artist</th>\n",
       "      <td>20718</td>\n",
       "      <td>2079</td>\n",
       "      <td>Gorillaz</td>\n",
       "      <td>10</td>\n",
       "    </tr>\n",
       "    <tr>\n",
       "      <th>Url_spotify</th>\n",
       "      <td>20718</td>\n",
       "      <td>2079</td>\n",
       "      <td>https://open.spotify.com/artist/3AA28KZvwAUcZu...</td>\n",
       "      <td>10</td>\n",
       "    </tr>\n",
       "    <tr>\n",
       "      <th>Track</th>\n",
       "      <td>20718</td>\n",
       "      <td>17841</td>\n",
       "      <td>El Ultimo Adiós - Varios Artistas Version</td>\n",
       "      <td>24</td>\n",
       "    </tr>\n",
       "    <tr>\n",
       "      <th>Album</th>\n",
       "      <td>20718</td>\n",
       "      <td>11937</td>\n",
       "      <td>Greatest Hits</td>\n",
       "      <td>30</td>\n",
       "    </tr>\n",
       "    <tr>\n",
       "      <th>Album_type</th>\n",
       "      <td>20718</td>\n",
       "      <td>3</td>\n",
       "      <td>album</td>\n",
       "      <td>14926</td>\n",
       "    </tr>\n",
       "    <tr>\n",
       "      <th>Uri</th>\n",
       "      <td>20718</td>\n",
       "      <td>18862</td>\n",
       "      <td>spotify:track:0tzixmHNQfE6S6SirSToxW</td>\n",
       "      <td>24</td>\n",
       "    </tr>\n",
       "    <tr>\n",
       "      <th>Danceability</th>\n",
       "      <td>20716</td>\n",
       "      <td>898</td>\n",
       "      <td>0,687</td>\n",
       "      <td>78</td>\n",
       "    </tr>\n",
       "    <tr>\n",
       "      <th>Energy</th>\n",
       "      <td>20716</td>\n",
       "      <td>1268</td>\n",
       "      <td>0,572</td>\n",
       "      <td>60</td>\n",
       "    </tr>\n",
       "    <tr>\n",
       "      <th>Key</th>\n",
       "      <td>20716</td>\n",
       "      <td>12</td>\n",
       "      <td>0,0</td>\n",
       "      <td>2305</td>\n",
       "    </tr>\n",
       "    <tr>\n",
       "      <th>Loudness</th>\n",
       "      <td>20716</td>\n",
       "      <td>9417</td>\n",
       "      <td>-7,818</td>\n",
       "      <td>25</td>\n",
       "    </tr>\n",
       "    <tr>\n",
       "      <th>Speechiness</th>\n",
       "      <td>20716</td>\n",
       "      <td>1303</td>\n",
       "      <td>0,0324</td>\n",
       "      <td>72</td>\n",
       "    </tr>\n",
       "    <tr>\n",
       "      <th>Acousticness</th>\n",
       "      <td>20716</td>\n",
       "      <td>3138</td>\n",
       "      <td>0,114</td>\n",
       "      <td>50</td>\n",
       "    </tr>\n",
       "    <tr>\n",
       "      <th>Instrumentalness</th>\n",
       "      <td>20716</td>\n",
       "      <td>4012</td>\n",
       "      <td>0,0</td>\n",
       "      <td>9391</td>\n",
       "    </tr>\n",
       "    <tr>\n",
       "      <th>Url_youtube</th>\n",
       "      <td>20248</td>\n",
       "      <td>18154</td>\n",
       "      <td>https://www.youtube.com/watch?v=GqOvxbFLwjY</td>\n",
       "      <td>18</td>\n",
       "    </tr>\n",
       "    <tr>\n",
       "      <th>Title</th>\n",
       "      <td>20248</td>\n",
       "      <td>18146</td>\n",
       "      <td>Color Esperanza 2020 - Various Artists (Offici...</td>\n",
       "      <td>18</td>\n",
       "    </tr>\n",
       "    <tr>\n",
       "      <th>Channel</th>\n",
       "      <td>20248</td>\n",
       "      <td>6714</td>\n",
       "      <td>T-Series</td>\n",
       "      <td>238</td>\n",
       "    </tr>\n",
       "    <tr>\n",
       "      <th>Description</th>\n",
       "      <td>19842</td>\n",
       "      <td>17395</td>\n",
       "      <td></td>\n",
       "      <td>114</td>\n",
       "    </tr>\n",
       "    <tr>\n",
       "      <th>Licensed</th>\n",
       "      <td>20248</td>\n",
       "      <td>2</td>\n",
       "      <td>True</td>\n",
       "      <td>14140</td>\n",
       "    </tr>\n",
       "    <tr>\n",
       "      <th>Official_video</th>\n",
       "      <td>20248</td>\n",
       "      <td>2</td>\n",
       "      <td>True</td>\n",
       "      <td>15723</td>\n",
       "    </tr>\n",
       "  </tbody>\n",
       "</table>\n",
       "</div>"
      ],
      "text/plain": [
       "                  count unique  \\\n",
       "Artist            20718   2079   \n",
       "Url_spotify       20718   2079   \n",
       "Track             20718  17841   \n",
       "Album             20718  11937   \n",
       "Album_type        20718      3   \n",
       "Uri               20718  18862   \n",
       "Danceability      20716    898   \n",
       "Energy            20716   1268   \n",
       "Key               20716     12   \n",
       "Loudness          20716   9417   \n",
       "Speechiness       20716   1303   \n",
       "Acousticness      20716   3138   \n",
       "Instrumentalness  20716   4012   \n",
       "Url_youtube       20248  18154   \n",
       "Title             20248  18146   \n",
       "Channel           20248   6714   \n",
       "Description       19842  17395   \n",
       "Licensed          20248      2   \n",
       "Official_video    20248      2   \n",
       "\n",
       "                                                                top   freq  \n",
       "Artist                                                     Gorillaz     10  \n",
       "Url_spotify       https://open.spotify.com/artist/3AA28KZvwAUcZu...     10  \n",
       "Track                     El Ultimo Adiós - Varios Artistas Version     24  \n",
       "Album                                                 Greatest Hits     30  \n",
       "Album_type                                                    album  14926  \n",
       "Uri                            spotify:track:0tzixmHNQfE6S6SirSToxW     24  \n",
       "Danceability                                                  0,687     78  \n",
       "Energy                                                        0,572     60  \n",
       "Key                                                             0,0   2305  \n",
       "Loudness                                                     -7,818     25  \n",
       "Speechiness                                                  0,0324     72  \n",
       "Acousticness                                                  0,114     50  \n",
       "Instrumentalness                                                0,0   9391  \n",
       "Url_youtube             https://www.youtube.com/watch?v=GqOvxbFLwjY     18  \n",
       "Title             Color Esperanza 2020 - Various Artists (Offici...     18  \n",
       "Channel                                                    T-Series    238  \n",
       "Description                                                            114  \n",
       "Licensed                                                       True  14140  \n",
       "Official_video                                                 True  15723  "
      ]
     },
     "execution_count": 152,
     "metadata": {},
     "output_type": "execute_result"
    }
   ],
   "source": [
    "#en las variables categóricas los estadísticos cambian, muchos de los utilizados para las numéricas no se pueden usar.\n",
    "# Como diferencia, tenemos la columna unique (cuántos valores distintos hay), top (valor más común) y freq (las veces que se repite ese valor).\n",
    "df_spotify.describe(include = 'object').T"
   ]
  },
  {
   "cell_type": "markdown",
   "metadata": {},
   "source": [
    "----------------"
   ]
  },
  {
   "cell_type": "markdown",
   "metadata": {},
   "source": [
    "-------------------"
   ]
  },
  {
   "cell_type": "markdown",
   "metadata": {},
   "source": [
    "#### **3. PREPARACIÓN DE LOS DATOS:**"
   ]
  },
  {
   "cell_type": "markdown",
   "metadata": {},
   "source": [
    "- Los nombres de las columnas empiezan con mayúsculas, poned todos los nombres de las columnas en minúsculas."
   ]
  },
  {
   "cell_type": "code",
   "execution_count": 153,
   "metadata": {},
   "outputs": [
    {
     "data": {
      "text/html": [
       "<div>\n",
       "<style scoped>\n",
       "    .dataframe tbody tr th:only-of-type {\n",
       "        vertical-align: middle;\n",
       "    }\n",
       "\n",
       "    .dataframe tbody tr th {\n",
       "        vertical-align: top;\n",
       "    }\n",
       "\n",
       "    .dataframe thead th {\n",
       "        text-align: right;\n",
       "    }\n",
       "</style>\n",
       "<table border=\"1\" class=\"dataframe\">\n",
       "  <thead>\n",
       "    <tr style=\"text-align: right;\">\n",
       "      <th></th>\n",
       "      <th>artist</th>\n",
       "      <th>url_spotify</th>\n",
       "      <th>track</th>\n",
       "      <th>album</th>\n",
       "      <th>album_type</th>\n",
       "      <th>uri</th>\n",
       "      <th>danceability</th>\n",
       "      <th>energy</th>\n",
       "      <th>key</th>\n",
       "      <th>loudness</th>\n",
       "      <th>speechiness</th>\n",
       "      <th>acousticness</th>\n",
       "      <th>instrumentalness</th>\n",
       "      <th>liveness</th>\n",
       "      <th>valence</th>\n",
       "      <th>tempo</th>\n",
       "      <th>duration_ms</th>\n",
       "      <th>url_youtube</th>\n",
       "      <th>title</th>\n",
       "      <th>channel</th>\n",
       "      <th>views</th>\n",
       "      <th>likes</th>\n",
       "      <th>comments</th>\n",
       "      <th>description</th>\n",
       "      <th>licensed</th>\n",
       "      <th>official_video</th>\n",
       "      <th>stream</th>\n",
       "    </tr>\n",
       "  </thead>\n",
       "  <tbody>\n",
       "    <tr>\n",
       "      <th>0</th>\n",
       "      <td>Gorillaz</td>\n",
       "      <td>https://open.spotify.com/artist/3AA28KZvwAUcZu...</td>\n",
       "      <td>Feel Good Inc.</td>\n",
       "      <td>Demon Days</td>\n",
       "      <td>album</td>\n",
       "      <td>spotify:track:0d28khcov6AiegSCpG5TuT</td>\n",
       "      <td>0,818</td>\n",
       "      <td>0,705</td>\n",
       "      <td>6,0</td>\n",
       "      <td>-6,679</td>\n",
       "      <td>0,177</td>\n",
       "      <td>0,00836</td>\n",
       "      <td>0,00233</td>\n",
       "      <td>0.613</td>\n",
       "      <td>0.772</td>\n",
       "      <td>138.559</td>\n",
       "      <td>222640.0</td>\n",
       "      <td>https://www.youtube.com/watch?v=HyHNuVaZJ-k</td>\n",
       "      <td>Gorillaz - Feel Good Inc. (Official Video)</td>\n",
       "      <td>Gorillaz</td>\n",
       "      <td>693555221.0</td>\n",
       "      <td>6220896.0</td>\n",
       "      <td>169907.0</td>\n",
       "      <td>Official HD Video for Gorillaz' fantastic trac...</td>\n",
       "      <td>True</td>\n",
       "      <td>True</td>\n",
       "      <td>1.040235e+09</td>\n",
       "    </tr>\n",
       "  </tbody>\n",
       "</table>\n",
       "</div>"
      ],
      "text/plain": [
       "     artist                                        url_spotify  \\\n",
       "0  Gorillaz  https://open.spotify.com/artist/3AA28KZvwAUcZu...   \n",
       "\n",
       "            track       album album_type  \\\n",
       "0  Feel Good Inc.  Demon Days      album   \n",
       "\n",
       "                                    uri danceability energy  key loudness  \\\n",
       "0  spotify:track:0d28khcov6AiegSCpG5TuT        0,818  0,705  6,0   -6,679   \n",
       "\n",
       "  speechiness acousticness instrumentalness  liveness  valence    tempo  \\\n",
       "0       0,177      0,00836          0,00233     0.613    0.772  138.559   \n",
       "\n",
       "   duration_ms                                  url_youtube  \\\n",
       "0     222640.0  https://www.youtube.com/watch?v=HyHNuVaZJ-k   \n",
       "\n",
       "                                        title   channel        views  \\\n",
       "0  Gorillaz - Feel Good Inc. (Official Video)  Gorillaz  693555221.0   \n",
       "\n",
       "       likes  comments                                        description  \\\n",
       "0  6220896.0  169907.0  Official HD Video for Gorillaz' fantastic trac...   \n",
       "\n",
       "  licensed official_video        stream  \n",
       "0     True           True  1.040235e+09  "
      ]
     },
     "execution_count": 153,
     "metadata": {},
     "output_type": "execute_result"
    }
   ],
   "source": [
    "#pasamos cada columna a minúscula con una list comprehension, y lo aplicamos al df.\n",
    "df_spotify.rename(columns = {col: col.lower() for col in df_spotify.columns}, inplace = True)\n",
    "df_spotify.head(1) #comprobamos que están cambiadas"
   ]
  },
  {
   "cell_type": "markdown",
   "metadata": {},
   "source": [
    "- Haciendo el análisis exploratorio nos deberíamos haber dado cuenta de que algunas de las variables (danceability, energy, key, loudness, speechiness, acousticness, instrumentalness) no son del tipo que deberían. Esto es debido a que los decimales están establecidos como comas y no con puntos. Cread una función que nos permita cambiar esas comas por puntos para que los datos tengan el tipo correcto.\n",
    "    - Después de haber hecho los cambios, chequead los tipos de datos. ¿Son ya del tipo correcto? En caso de que no, cread otra función o modificar la anterior para que sean de tipo float."
   ]
  },
  {
   "cell_type": "code",
   "execution_count": 154,
   "metadata": {},
   "outputs": [],
   "source": [
    "#en la exploración previa del df hemos comprobado que tenemos dos valores nulos en estas columnas, utilizamos un try para evitarnos errores.\n",
    "\n",
    "def cambiar_a_float(texto):\n",
    "    '''\n",
    "    Cambia el tipo de dato que recibe de str a float, sutituyendo la coma (,) por punto (.)\n",
    "    Parámetro: string\n",
    "    Return: ese valor convertido a float\n",
    "    '''\n",
    "    try:\n",
    "        return float(texto.replace(',','.'))\n",
    "    except:\n",
    "        return np.nan"
   ]
  },
  {
   "cell_type": "code",
   "execution_count": 155,
   "metadata": {},
   "outputs": [],
   "source": [
    "#podemos pasar el apply a cada columna individualmente, pero es más eficiente incluirlas en una lista y aplicar un bucle for a esa lista.\n",
    "\n",
    "columnas_cambiar_float = ['danceability', 'energy', 'key', 'loudness', 'speechiness', 'acousticness', 'instrumentalness']\n",
    "\n",
    "for col in columnas_cambiar_float:\n",
    "    df_spotify[col] = df_spotify[col].apply(cambiar_a_float)"
   ]
  },
  {
   "cell_type": "code",
   "execution_count": 156,
   "metadata": {},
   "outputs": [
    {
     "data": {
      "text/plain": [
       "danceability        float64\n",
       "energy              float64\n",
       "key                 float64\n",
       "loudness            float64\n",
       "speechiness         float64\n",
       "acousticness        float64\n",
       "instrumentalness    float64\n",
       "dtype: object"
      ]
     },
     "execution_count": 156,
     "metadata": {},
     "output_type": "execute_result"
    }
   ],
   "source": [
    "#comprobamos que nuestro tipo de datos se ha modificado\n",
    "df_spotify[columnas_cambiar_float].dtypes"
   ]
  },
  {
   "cell_type": "markdown",
   "metadata": {},
   "source": [
    "- Hay algunas canciones cuyo título está en mayúsulas. Crea una función para que todos los títulos estén en minúscula. Haced lo mismo para las columnas de \"title\" y \"album\"."
   ]
  },
  {
   "cell_type": "code",
   "execution_count": 157,
   "metadata": {},
   "outputs": [],
   "source": [
    "#en la exploración previa del df hemos comprobado que tenemos valores nulos en una de estas columnas (title), utilizamos un try para evitarnos errores.\n",
    "\n",
    "def cambiar_a_minusculas(texto):\n",
    "    '''\n",
    "    Pone en minúsculas todas las letras del string que recibe\n",
    "    Parámetro: string\n",
    "    Return: ese valor totalemnte en minúsculas\n",
    "    '''\n",
    "    try:\n",
    "        return texto.lower()\n",
    "    except:\n",
    "        return np.nan"
   ]
  },
  {
   "cell_type": "code",
   "execution_count": 158,
   "metadata": {},
   "outputs": [],
   "source": [
    "#incluimos en una lista las columnas a modificar y aplicamos un bucle for.\n",
    "    \n",
    "columnas_cambiar_minus = ['track', 'title', 'album']\n",
    "\n",
    "for col in columnas_cambiar_minus:\n",
    "    df_spotify[col] = df_spotify[col].apply(cambiar_a_minusculas)"
   ]
  },
  {
   "cell_type": "code",
   "execution_count": 159,
   "metadata": {},
   "outputs": [
    {
     "data": {
      "text/html": [
       "<div>\n",
       "<style scoped>\n",
       "    .dataframe tbody tr th:only-of-type {\n",
       "        vertical-align: middle;\n",
       "    }\n",
       "\n",
       "    .dataframe tbody tr th {\n",
       "        vertical-align: top;\n",
       "    }\n",
       "\n",
       "    .dataframe thead th {\n",
       "        text-align: right;\n",
       "    }\n",
       "</style>\n",
       "<table border=\"1\" class=\"dataframe\">\n",
       "  <thead>\n",
       "    <tr style=\"text-align: right;\">\n",
       "      <th></th>\n",
       "      <th>artist</th>\n",
       "      <th>url_spotify</th>\n",
       "      <th>track</th>\n",
       "      <th>album</th>\n",
       "      <th>album_type</th>\n",
       "      <th>uri</th>\n",
       "      <th>danceability</th>\n",
       "      <th>energy</th>\n",
       "      <th>key</th>\n",
       "      <th>loudness</th>\n",
       "      <th>speechiness</th>\n",
       "      <th>acousticness</th>\n",
       "      <th>instrumentalness</th>\n",
       "      <th>liveness</th>\n",
       "      <th>valence</th>\n",
       "      <th>tempo</th>\n",
       "      <th>duration_ms</th>\n",
       "      <th>url_youtube</th>\n",
       "      <th>title</th>\n",
       "      <th>channel</th>\n",
       "      <th>views</th>\n",
       "      <th>likes</th>\n",
       "      <th>comments</th>\n",
       "      <th>description</th>\n",
       "      <th>licensed</th>\n",
       "      <th>official_video</th>\n",
       "      <th>stream</th>\n",
       "    </tr>\n",
       "  </thead>\n",
       "  <tbody>\n",
       "    <tr>\n",
       "      <th>0</th>\n",
       "      <td>Gorillaz</td>\n",
       "      <td>https://open.spotify.com/artist/3AA28KZvwAUcZu...</td>\n",
       "      <td>feel good inc.</td>\n",
       "      <td>demon days</td>\n",
       "      <td>album</td>\n",
       "      <td>spotify:track:0d28khcov6AiegSCpG5TuT</td>\n",
       "      <td>0.818</td>\n",
       "      <td>0.705</td>\n",
       "      <td>6.0</td>\n",
       "      <td>-6.679</td>\n",
       "      <td>0.177</td>\n",
       "      <td>0.00836</td>\n",
       "      <td>0.00233</td>\n",
       "      <td>0.613</td>\n",
       "      <td>0.772</td>\n",
       "      <td>138.559</td>\n",
       "      <td>222640.0</td>\n",
       "      <td>https://www.youtube.com/watch?v=HyHNuVaZJ-k</td>\n",
       "      <td>gorillaz - feel good inc. (official video)</td>\n",
       "      <td>Gorillaz</td>\n",
       "      <td>693555221.0</td>\n",
       "      <td>6220896.0</td>\n",
       "      <td>169907.0</td>\n",
       "      <td>Official HD Video for Gorillaz' fantastic trac...</td>\n",
       "      <td>True</td>\n",
       "      <td>True</td>\n",
       "      <td>1.040235e+09</td>\n",
       "    </tr>\n",
       "  </tbody>\n",
       "</table>\n",
       "</div>"
      ],
      "text/plain": [
       "     artist                                        url_spotify  \\\n",
       "0  Gorillaz  https://open.spotify.com/artist/3AA28KZvwAUcZu...   \n",
       "\n",
       "            track       album album_type  \\\n",
       "0  feel good inc.  demon days      album   \n",
       "\n",
       "                                    uri  danceability  energy  key  loudness  \\\n",
       "0  spotify:track:0d28khcov6AiegSCpG5TuT         0.818   0.705  6.0    -6.679   \n",
       "\n",
       "   speechiness  acousticness  instrumentalness  liveness  valence    tempo  \\\n",
       "0        0.177       0.00836           0.00233     0.613    0.772  138.559   \n",
       "\n",
       "   duration_ms                                  url_youtube  \\\n",
       "0     222640.0  https://www.youtube.com/watch?v=HyHNuVaZJ-k   \n",
       "\n",
       "                                        title   channel        views  \\\n",
       "0  gorillaz - feel good inc. (official video)  Gorillaz  693555221.0   \n",
       "\n",
       "       likes  comments                                        description  \\\n",
       "0  6220896.0  169907.0  Official HD Video for Gorillaz' fantastic trac...   \n",
       "\n",
       "  licensed official_video        stream  \n",
       "0     True           True  1.040235e+09  "
      ]
     },
     "execution_count": 159,
     "metadata": {},
     "output_type": "execute_result"
    }
   ],
   "source": [
    "#comprobamos que nuestros registros están en minúsculas\n",
    "df_spotify.head(1)"
   ]
  },
  {
   "cell_type": "markdown",
   "metadata": {},
   "source": [
    "- Algunos de los artistas tienen símbolos raros, en concreto el símbolo $. Cread una función que nos elimine este símbolo de los nombres de los artistas."
   ]
  },
  {
   "cell_type": "code",
   "execution_count": 160,
   "metadata": {},
   "outputs": [
    {
     "data": {
      "text/plain": [
       "90"
      ]
     },
     "execution_count": 160,
     "metadata": {},
     "output_type": "execute_result"
    }
   ],
   "source": [
    "#es difícil comprobar en una exploración rutinaria si tenemos ese símbolo ya que parece que no muchos registros lo tienen. Vamos a filtrar por regex.\n",
    "patron_dolar = '.*[$].*'\n",
    "\n",
    "len(df_spotify[df_spotify['artist'].str.contains(patron_dolar, regex=True)])"
   ]
  },
  {
   "cell_type": "code",
   "execution_count": 161,
   "metadata": {},
   "outputs": [],
   "source": [
    "#hemos comprobado previamente en la exploración que no tenemos ningún nulo en la columna artist.\n",
    "#nos queda una función muy sencilla de sólo una línea con sólo un método de string, podemos utilizar una lambda.\n",
    "\n",
    "df_spotify['artist'] = df_spotify['artist'].apply(lambda simbolo_dolar: simbolo_dolar.replace('$', ''))"
   ]
  },
  {
   "cell_type": "code",
   "execution_count": 162,
   "metadata": {},
   "outputs": [
    {
     "data": {
      "text/plain": [
       "0"
      ]
     },
     "execution_count": 162,
     "metadata": {},
     "output_type": "execute_result"
    }
   ],
   "source": [
    "#comprobamos que ya no tenemos ningún valor con $\n",
    "len(df_spotify[df_spotify['artist'].str.contains(patron_dolar, regex=True)])"
   ]
  },
  {
   "cell_type": "markdown",
   "metadata": {},
   "source": [
    "-------------------------------"
   ]
  },
  {
   "cell_type": "markdown",
   "metadata": {},
   "source": [
    "-----------------------------------------------"
   ]
  },
  {
   "cell_type": "markdown",
   "metadata": {},
   "source": [
    "#### **4. FILTRADO DE DATOS Y VISUALIZACIÓN:**\n",
    "- ¿Cuáles son los valores únicos de la columna \"album_type\"? Cread tres dataframes diferentes, uno para cada tipo de \"album_type\". ¿Cuántas canciones tenemos en cada tipo?"
   ]
  },
  {
   "cell_type": "code",
   "execution_count": 163,
   "metadata": {},
   "outputs": [
    {
     "name": "stdout",
     "output_type": "stream",
     "text": [
      "Los tipos de álbumes que tenemos son: album, single, compilation.\n"
     ]
    }
   ],
   "source": [
    "print(f'Los tipos de álbumes que tenemos son: {\", \".join(list(df_spotify[\"album_type\"].unique()))}.')"
   ]
  },
  {
   "cell_type": "code",
   "execution_count": 164,
   "metadata": {},
   "outputs": [],
   "source": [
    "df_album = df_spotify[df_spotify['album_type'].isin(['album'])]\n",
    "df_single = df_spotify[df_spotify['album_type'].isin(['single'])]\n",
    "df_compilation = df_spotify[df_spotify['album_type'].isin(['compilation'])]"
   ]
  },
  {
   "cell_type": "code",
   "execution_count": 165,
   "metadata": {},
   "outputs": [
    {
     "name": "stdout",
     "output_type": "stream",
     "text": [
      "Tenemos 13239 canciones en la categoría álbum.\n",
      "Tenemos 4122 canciones en la categoría single.\n",
      "Tenemos 688 canciones en la categoría compilation.\n"
     ]
    }
   ],
   "source": [
    "print(f\"Tenemos {len(df_album['track'].unique())} canciones en la categoría álbum.\")\n",
    "print(f\"Tenemos {len(df_single['track'].unique())} canciones en la categoría single.\")\n",
    "print(f\"Tenemos {len(df_compilation['track'].unique())} canciones en la categoría compilation.\")"
   ]
  },
  {
   "cell_type": "markdown",
   "metadata": {},
   "source": [
    "----"
   ]
  },
  {
   "cell_type": "markdown",
   "metadata": {},
   "source": [
    "- Usando el dataframe de los albumes que hemos creado en el ejercicio anterior. ¿Cuál es la media y la desviación estándar de \"danceability\", \"acousticness\" y \"speechiness\" de cada artista?. Mostrad los resultados en tres dataframes diferentes, uno para cada métrica (\"danceability\", \"acousticness\" y \"speechiness\"). Ordenar los resultados de mayor a menor en base a la media."
   ]
  },
  {
   "cell_type": "code",
   "execution_count": 166,
   "metadata": {},
   "outputs": [],
   "source": [
    "#como tenemos que hacer el cálculo para varias métricas, vamos a hacer una función que pasaremos luego para cada métrica.\n",
    "\n",
    "def media_desviacion(df, col1, col2):\n",
    "    '''\n",
    "    Crea un df con la media y la desviacion estandar de cada métrica solicitada, agrupado por la columna que indiquemos, ordenado de mayor a menor por la media.\n",
    "    Modifica los nombres de las columnas del df final para que espeficiquen la métrica que estamos evaluando.\n",
    "    Parámetros: df del que queremos aplicar los estadísticos, columna1 (sobre la que queremos apruparlo), (columna2 a la que queremos pasar los estadisticos)\n",
    "    Return: df con los cambios aplicados\n",
    "    '''\n",
    "    df = df.groupby(col1)[col2].agg(['mean', 'std']).sort_values(by= 'mean', ascending=False)\n",
    "    df.reset_index(inplace = True)\n",
    "    col_nuevas =  {'mean': f'{col2}_mean', 'std': f'{col2}_std' }\n",
    "    df.rename(columns = col_nuevas, inplace = True)\n",
    "    return df"
   ]
  },
  {
   "cell_type": "code",
   "execution_count": 167,
   "metadata": {},
   "outputs": [
    {
     "data": {
      "text/html": [
       "<div>\n",
       "<style scoped>\n",
       "    .dataframe tbody tr th:only-of-type {\n",
       "        vertical-align: middle;\n",
       "    }\n",
       "\n",
       "    .dataframe tbody tr th {\n",
       "        vertical-align: top;\n",
       "    }\n",
       "\n",
       "    .dataframe thead th {\n",
       "        text-align: right;\n",
       "    }\n",
       "</style>\n",
       "<table border=\"1\" class=\"dataframe\">\n",
       "  <thead>\n",
       "    <tr style=\"text-align: right;\">\n",
       "      <th></th>\n",
       "      <th>artist</th>\n",
       "      <th>danceability_mean</th>\n",
       "      <th>danceability_std</th>\n",
       "    </tr>\n",
       "  </thead>\n",
       "  <tbody>\n",
       "    <tr>\n",
       "      <th>0</th>\n",
       "      <td>Latto</td>\n",
       "      <td>0.922333</td>\n",
       "      <td>0.014503</td>\n",
       "    </tr>\n",
       "    <tr>\n",
       "      <th>1</th>\n",
       "      <td>Murda</td>\n",
       "      <td>0.911500</td>\n",
       "      <td>0.030406</td>\n",
       "    </tr>\n",
       "    <tr>\n",
       "      <th>2</th>\n",
       "      <td>Jon Z</td>\n",
       "      <td>0.886000</td>\n",
       "      <td>0.015556</td>\n",
       "    </tr>\n",
       "  </tbody>\n",
       "</table>\n",
       "</div>"
      ],
      "text/plain": [
       "  artist  danceability_mean  danceability_std\n",
       "0  Latto           0.922333          0.014503\n",
       "1  Murda           0.911500          0.030406\n",
       "2  Jon Z           0.886000          0.015556"
      ]
     },
     "execution_count": 167,
     "metadata": {},
     "output_type": "execute_result"
    }
   ],
   "source": [
    "df_danceability = media_desviacion(df_album, 'artist', 'danceability')\n",
    "df_danceability.head(3)"
   ]
  },
  {
   "cell_type": "code",
   "execution_count": 168,
   "metadata": {},
   "outputs": [
    {
     "data": {
      "text/html": [
       "<div>\n",
       "<style scoped>\n",
       "    .dataframe tbody tr th:only-of-type {\n",
       "        vertical-align: middle;\n",
       "    }\n",
       "\n",
       "    .dataframe tbody tr th {\n",
       "        vertical-align: top;\n",
       "    }\n",
       "\n",
       "    .dataframe thead th {\n",
       "        text-align: right;\n",
       "    }\n",
       "</style>\n",
       "<table border=\"1\" class=\"dataframe\">\n",
       "  <thead>\n",
       "    <tr style=\"text-align: right;\">\n",
       "      <th></th>\n",
       "      <th>artist</th>\n",
       "      <th>acousticness_mean</th>\n",
       "      <th>acousticness_std</th>\n",
       "    </tr>\n",
       "  </thead>\n",
       "  <tbody>\n",
       "    <tr>\n",
       "      <th>0</th>\n",
       "      <td>Claude Debussy</td>\n",
       "      <td>0.993714</td>\n",
       "      <td>0.001380</td>\n",
       "    </tr>\n",
       "    <tr>\n",
       "      <th>1</th>\n",
       "      <td>Robert Schumann</td>\n",
       "      <td>0.993444</td>\n",
       "      <td>0.004902</td>\n",
       "    </tr>\n",
       "    <tr>\n",
       "      <th>2</th>\n",
       "      <td>Franz Schubert</td>\n",
       "      <td>0.989500</td>\n",
       "      <td>0.005237</td>\n",
       "    </tr>\n",
       "  </tbody>\n",
       "</table>\n",
       "</div>"
      ],
      "text/plain": [
       "            artist  acousticness_mean  acousticness_std\n",
       "0   Claude Debussy           0.993714          0.001380\n",
       "1  Robert Schumann           0.993444          0.004902\n",
       "2   Franz Schubert           0.989500          0.005237"
      ]
     },
     "execution_count": 168,
     "metadata": {},
     "output_type": "execute_result"
    }
   ],
   "source": [
    "df_acousticness = media_desviacion(df_album, 'artist', 'acousticness')\n",
    "df_acousticness.head(3)"
   ]
  },
  {
   "cell_type": "code",
   "execution_count": 169,
   "metadata": {},
   "outputs": [
    {
     "data": {
      "text/html": [
       "<div>\n",
       "<style scoped>\n",
       "    .dataframe tbody tr th:only-of-type {\n",
       "        vertical-align: middle;\n",
       "    }\n",
       "\n",
       "    .dataframe tbody tr th {\n",
       "        vertical-align: top;\n",
       "    }\n",
       "\n",
       "    .dataframe thead th {\n",
       "        text-align: right;\n",
       "    }\n",
       "</style>\n",
       "<table border=\"1\" class=\"dataframe\">\n",
       "  <thead>\n",
       "    <tr style=\"text-align: right;\">\n",
       "      <th></th>\n",
       "      <th>artist</th>\n",
       "      <th>speechiness_mean</th>\n",
       "      <th>speechiness_std</th>\n",
       "    </tr>\n",
       "  </thead>\n",
       "  <tbody>\n",
       "    <tr>\n",
       "      <th>0</th>\n",
       "      <td>Sir Arthur Conan Doyle</td>\n",
       "      <td>0.9523</td>\n",
       "      <td>0.008845</td>\n",
       "    </tr>\n",
       "    <tr>\n",
       "      <th>1</th>\n",
       "      <td>Bibi Blocksberg</td>\n",
       "      <td>0.9453</td>\n",
       "      <td>0.011879</td>\n",
       "    </tr>\n",
       "    <tr>\n",
       "      <th>2</th>\n",
       "      <td>Sherlock Holmes</td>\n",
       "      <td>0.9393</td>\n",
       "      <td>0.015833</td>\n",
       "    </tr>\n",
       "  </tbody>\n",
       "</table>\n",
       "</div>"
      ],
      "text/plain": [
       "                   artist  speechiness_mean  speechiness_std\n",
       "0  Sir Arthur Conan Doyle            0.9523         0.008845\n",
       "1         Bibi Blocksberg            0.9453         0.011879\n",
       "2         Sherlock Holmes            0.9393         0.015833"
      ]
     },
     "execution_count": 169,
     "metadata": {},
     "output_type": "execute_result"
    }
   ],
   "source": [
    "df_speechiness = media_desviacion(df_album, 'artist', 'speechiness')\n",
    "df_speechiness.head(3)"
   ]
  },
  {
   "cell_type": "markdown",
   "metadata": {},
   "source": [
    "---------------------------------------------------------"
   ]
  },
  {
   "cell_type": "markdown",
   "metadata": {},
   "source": [
    "- Se quiere estudiar si existe una relación entre la cantidad de visitas que reciben los videos de música de un artista en una plataforma de streaming y la cantidad de likes que estos videos obtienen. Por lo tanto, querremos contestar a la siguiente pregunta: ¿Son aquellos artistas que tienen más visitas los que más likes tienen? Para solucionar este ejercicio deberéis:\n",
    "    - Agrupar por artista y calcular la media de visitas y de likes.\n",
    "    - Quedaros con los 10 artistas que más visitas han tenido.\n",
    "    - Quedaros con los 10 artistas que más likes han tenido.\n",
    "    - Haced un subplot, donde en uno tengamos los 10 artistas con más likes y en el otro los 10 artistas con mas views.\n",
    "    - BONUS Haced lo mismo para los datos de tipo \"single\"."
   ]
  },
  {
   "cell_type": "code",
   "execution_count": 170,
   "metadata": {},
   "outputs": [
    {
     "data": {
      "text/html": [
       "<div>\n",
       "<style scoped>\n",
       "    .dataframe tbody tr th:only-of-type {\n",
       "        vertical-align: middle;\n",
       "    }\n",
       "\n",
       "    .dataframe tbody tr th {\n",
       "        vertical-align: top;\n",
       "    }\n",
       "\n",
       "    .dataframe thead th {\n",
       "        text-align: right;\n",
       "    }\n",
       "</style>\n",
       "<table border=\"1\" class=\"dataframe\">\n",
       "  <thead>\n",
       "    <tr style=\"text-align: right;\">\n",
       "      <th></th>\n",
       "      <th>artist</th>\n",
       "      <th>views</th>\n",
       "      <th>likes</th>\n",
       "    </tr>\n",
       "  </thead>\n",
       "  <tbody>\n",
       "    <tr>\n",
       "      <th>0</th>\n",
       "      <td>(G)I-DLE</td>\n",
       "      <td>175495394.1</td>\n",
       "      <td>2446296.3</td>\n",
       "    </tr>\n",
       "    <tr>\n",
       "      <th>1</th>\n",
       "      <td>*NSYNC</td>\n",
       "      <td>102783286.2</td>\n",
       "      <td>423342.3</td>\n",
       "    </tr>\n",
       "    <tr>\n",
       "      <th>2</th>\n",
       "      <td>070 Shake</td>\n",
       "      <td>9609935.9</td>\n",
       "      <td>201300.5</td>\n",
       "    </tr>\n",
       "  </tbody>\n",
       "</table>\n",
       "</div>"
      ],
      "text/plain": [
       "      artist        views      likes\n",
       "0   (G)I-DLE  175495394.1  2446296.3\n",
       "1     *NSYNC  102783286.2   423342.3\n",
       "2  070 Shake    9609935.9   201300.5"
      ]
     },
     "execution_count": 170,
     "metadata": {},
     "output_type": "execute_result"
    }
   ],
   "source": [
    "#creamos un df nuevo agrupando por artista en base a la media de las columnas que se piden.\n",
    "df_visitas_likes = df_spotify.groupby('artist')[['views', 'likes']].mean().reset_index()\n",
    "df_visitas_likes.head(3)"
   ]
  },
  {
   "cell_type": "code",
   "execution_count": 171,
   "metadata": {},
   "outputs": [],
   "source": [
    "#ordenamos de mayor a menor y nos quedamos con los 10 primeros valores. Para ello creamos una función ya que lo usaremos varias veces (más adelante en el bonus).\n",
    "def seleccion_top(df, col):\n",
    "    '''\n",
    "    De un df selecciona los 10 valores más altos por la columna que especifiquemos y devuelve un df con esos valores filtrados.\n",
    "    Parámetros: el df y la columna que queremos ordenar y seleccionar\n",
    "    Return: el df ordenado de mayor a menor sólo con los 10 primeros elementos.\n",
    "    '''\n",
    "    return df.sort_values(by= col, ascending = False).iloc[:10, :]"
   ]
  },
  {
   "cell_type": "code",
   "execution_count": 172,
   "metadata": {},
   "outputs": [],
   "source": [
    "#creamos otra función para imprimir el resultado por pantalla.\n",
    "def imprimir_top(df, col):\n",
    "    ''' \n",
    "    Imprime por pantalla un string que incluye los valores únicos de la columna del df que especifiquemos.\n",
    "    Parámetros: df y columna de la que queremos los valores únicos.\n",
    "    Return: no tiene, imprime el texto en pantalla.    \n",
    "    '''\n",
    "    print(f'Los 10 artistas que más visitas han tenido son, de mayor a menor:\\n{\", \".join(list(df[col].unique()))}.')"
   ]
  },
  {
   "cell_type": "code",
   "execution_count": 173,
   "metadata": {},
   "outputs": [
    {
     "data": {
      "text/html": [
       "<div>\n",
       "<style scoped>\n",
       "    .dataframe tbody tr th:only-of-type {\n",
       "        vertical-align: middle;\n",
       "    }\n",
       "\n",
       "    .dataframe tbody tr th {\n",
       "        vertical-align: top;\n",
       "    }\n",
       "\n",
       "    .dataframe thead th {\n",
       "        text-align: right;\n",
       "    }\n",
       "</style>\n",
       "<table border=\"1\" class=\"dataframe\">\n",
       "  <thead>\n",
       "    <tr style=\"text-align: right;\">\n",
       "      <th></th>\n",
       "      <th>artist</th>\n",
       "      <th>views</th>\n",
       "      <th>likes</th>\n",
       "    </tr>\n",
       "  </thead>\n",
       "  <tbody>\n",
       "    <tr>\n",
       "      <th>524</th>\n",
       "      <td>Ed Sheeran</td>\n",
       "      <td>1.546021e+09</td>\n",
       "      <td>8354331.9</td>\n",
       "    </tr>\n",
       "    <tr>\n",
       "      <th>372</th>\n",
       "      <td>CoComelon</td>\n",
       "      <td>1.460167e+09</td>\n",
       "      <td>4171391.3</td>\n",
       "    </tr>\n",
       "    <tr>\n",
       "      <th>953</th>\n",
       "      <td>Katy Perry</td>\n",
       "      <td>1.312063e+09</td>\n",
       "      <td>6306709.0</td>\n",
       "    </tr>\n",
       "  </tbody>\n",
       "</table>\n",
       "</div>"
      ],
      "text/plain": [
       "         artist         views      likes\n",
       "524  Ed Sheeran  1.546021e+09  8354331.9\n",
       "372   CoComelon  1.460167e+09  4171391.3\n",
       "953  Katy Perry  1.312063e+09  6306709.0"
      ]
     },
     "execution_count": 173,
     "metadata": {},
     "output_type": "execute_result"
    }
   ],
   "source": [
    "#creamos un df ordenado por visitas\n",
    "df_visitas_top = seleccion_top(df_visitas_likes, ['views'])\n",
    "df_visitas_top.head(3)"
   ]
  },
  {
   "cell_type": "code",
   "execution_count": 174,
   "metadata": {},
   "outputs": [
    {
     "name": "stdout",
     "output_type": "stream",
     "text": [
      "Los 10 artistas que más visitas han tenido son, de mayor a menor:\n",
      "Ed Sheeran, CoComelon, Katy Perry, Charlie Puth, Luis Fonsi, Justin Bieber, Daddy Yankee, Bruno Mars, Macklemore & Ryan Lewis, Coldplay.\n"
     ]
    }
   ],
   "source": [
    "imprimir_top(df_visitas_top, 'artist')"
   ]
  },
  {
   "cell_type": "code",
   "execution_count": 175,
   "metadata": {},
   "outputs": [
    {
     "data": {
      "text/html": [
       "<div>\n",
       "<style scoped>\n",
       "    .dataframe tbody tr th:only-of-type {\n",
       "        vertical-align: middle;\n",
       "    }\n",
       "\n",
       "    .dataframe tbody tr th {\n",
       "        vertical-align: top;\n",
       "    }\n",
       "\n",
       "    .dataframe thead th {\n",
       "        text-align: right;\n",
       "    }\n",
       "</style>\n",
       "<table border=\"1\" class=\"dataframe\">\n",
       "  <thead>\n",
       "    <tr style=\"text-align: right;\">\n",
       "      <th></th>\n",
       "      <th>artist</th>\n",
       "      <th>views</th>\n",
       "      <th>likes</th>\n",
       "    </tr>\n",
       "  </thead>\n",
       "  <tbody>\n",
       "    <tr>\n",
       "      <th>151</th>\n",
       "      <td>BTS</td>\n",
       "      <td>5.607867e+08</td>\n",
       "      <td>13940380.8</td>\n",
       "    </tr>\n",
       "    <tr>\n",
       "      <th>149</th>\n",
       "      <td>BLACKPINK</td>\n",
       "      <td>9.392962e+08</td>\n",
       "      <td>13230250.5</td>\n",
       "    </tr>\n",
       "    <tr>\n",
       "      <th>331</th>\n",
       "      <td>Charlie Puth</td>\n",
       "      <td>1.216759e+09</td>\n",
       "      <td>8633692.5</td>\n",
       "    </tr>\n",
       "  </tbody>\n",
       "</table>\n",
       "</div>"
      ],
      "text/plain": [
       "           artist         views       likes\n",
       "151           BTS  5.607867e+08  13940380.8\n",
       "149     BLACKPINK  9.392962e+08  13230250.5\n",
       "331  Charlie Puth  1.216759e+09   8633692.5"
      ]
     },
     "execution_count": 175,
     "metadata": {},
     "output_type": "execute_result"
    }
   ],
   "source": [
    "#hacemos lo mismo con los likes\n",
    "df_likes_top = seleccion_top(df_visitas_likes, ['likes'])\n",
    "df_likes_top.head(3)"
   ]
  },
  {
   "cell_type": "code",
   "execution_count": 176,
   "metadata": {},
   "outputs": [
    {
     "name": "stdout",
     "output_type": "stream",
     "text": [
      "Los 10 artistas que más visitas han tenido son, de mayor a menor:\n",
      "BTS, BLACKPINK, Charlie Puth, Ed Sheeran, Justin Bieber, Billie Eilish, Imagine Dragons, Alan Walker, DJ Snake, Luis Fonsi.\n"
     ]
    }
   ],
   "source": [
    "imprimir_top(df_likes_top, 'artist')"
   ]
  },
  {
   "cell_type": "code",
   "execution_count": 177,
   "metadata": {},
   "outputs": [],
   "source": [
    "#Vamos a crearnos varias gráficas barplot para nuestros análisis (las generaremos más adelante en el bonus).\n",
    "#Como tenemos que crear varias gráficas similares, y queremos darle la misma estética a todas ellas, hacemos una función.\n",
    "\n",
    "def crear_subplot_personalizado(df_izq,\n",
    "                                df_dcha,\n",
    "                                col_izq,\n",
    "                                col_dcha,\n",
    "                                col_cat,\n",
    "                                paleta_izq, \n",
    "                                paleta_dcha,\n",
    "                                titulo_general,\n",
    "                                titulo_izq,\n",
    "                                titulo_dcha,\n",
    "                                x_izq,\n",
    "                                x_dcha,\n",
    "                                nombre_guardar):\n",
    "    '''\n",
    "    Crea un subplot con algunas características de personalización. Algunas de ellas definidas dentro de la función, otras las pasaremos por parámetros.\n",
    "    Parámetros: df sobre los que queramos crear las gráficas\n",
    "                columnas sobre las que queramos crear las gráficas\n",
    "                paletas de color que queramos usar para cada gráfica\n",
    "                título general del subplot\n",
    "                título de cada gráfica\n",
    "                nombre del eje x de cada gráfica\n",
    "                nombre con el que queramos guardar el archivo y su formato\n",
    "    Return: no tiene, genera la gráfica, la guarda y la muestra en pantalla\n",
    "    '''\n",
    "\n",
    "    '''definimos un estilo para nuestras visualizaciones.\n",
    "    Lo dejamos dentro de la función porque queremos que sea parte de la personalización de este subplot, pero este método\n",
    "    no tendremos que llamarlo de nuevo ya que aplicará a todas las visualizaciones de este jupyter.\n",
    "    '''\n",
    "    plt.style.use('Solarize_Light2')\n",
    "\n",
    "    #con subplot creamos dos gráficas. Vamos a ubicarlas en la misma fila, creando dos columnas\n",
    "    fig, ax = plt.subplots(1,2, figsize = (12,5))\n",
    "\n",
    "    #definimos nuestras gráficas\n",
    "    sns.barplot(data = df_izq, x = col_izq, y = col_cat,ax = ax[0], palette = paleta_izq )\n",
    "    sns.barplot(data = df_dcha, x = col_dcha, y = col_cat, ax = ax[1], palette = paleta_dcha)\n",
    "\n",
    "    #le ponemos un título general a nuestro conjunto de gráficas\n",
    "    fig.suptitle(titulo_general, color = 'dimgrey', fontweight='bold', fontsize = 18)\n",
    "\n",
    "    #añadimos un título individual para cada gráfica por separado. No lo personalizamos ya que sns no lo permite\n",
    "    ax[0].title.set_text(titulo_izq)\n",
    "    ax[1].title.set_text(titulo_dcha)\n",
    "\n",
    "    #modificamos el nombre del eje x\n",
    "    ax[0].set_xlabel(x_izq, color = paleta_izq.color_nombre_x, fontweight='bold', fontsize = 10)\n",
    "    ax[1].set_xlabel(x_dcha, color = paleta_dcha.color_nombre_x, fontweight='bold', fontsize = 10)\n",
    "\n",
    "    #decidimos no añadir nombre en el eje y. Queda claro con los títulos de las gráficas y los nombres de las equitetas que se trata de los artistas,\n",
    "    #y por el contrario genera ruido en la gráfica y entorpece la lectura\n",
    "    ax[0].set_ylabel('')\n",
    "    ax[1].set_ylabel('')\n",
    "    \n",
    "    #evitamos que las gráficas se \"pisen\" entre sí\n",
    "    fig.tight_layout()\n",
    "\n",
    "    #guardamos nuestra gráfica fuera del jupyter\n",
    "    plt.savefig(nombre_guardar)\n",
    "\n",
    "    plt.show()\n"
   ]
  },
  {
   "cell_type": "code",
   "execution_count": 178,
   "metadata": {},
   "outputs": [
    {
     "data": {
      "image/png": "[encoded data removed]",
      "text/plain": [
       "<Figure size 1200x500 with 2 Axes>"
      ]
     },
     "metadata": {},
     "output_type": "display_data"
    }
   ],
   "source": [
    "'''Las paletas de color son las características de personalización que pasamos como parámetro porque queremos que sean diferentes cada vez que creemos una gráfica nueva.\n",
    "Hemos decidido que el nombre del eje X combine con la paleta de las barras. Creamos un campo dentro de cada paleta con el color del nombre, para que se relacione direcamente\n",
    "y no tengamos que pasarlo como parámetro cada vez.'''\n",
    "\n",
    "paleta_vis_global = sns.color_palette('GnBu_r_d', 13)\n",
    "paleta_vis_global.color_nombre_x = 'steelblue'\n",
    "paleta_likes_global = sns.cubehelix_palette(13, reverse = True)\n",
    "paleta_likes_global.color_nombre_x = 'palevioletred'\n",
    "\n",
    "crear_subplot_personalizado(df_visitas_top,\n",
    "                            df_likes_top,\n",
    "                            'views',\n",
    "                            'likes',\n",
    "                            'artist',\n",
    "                            paleta_vis_global,\n",
    "                            paleta_likes_global,\n",
    "                            'COMPARACIÓN ENTRE VISITAS Y LIKES POR ARTISTAS',\n",
    "                            'Artistas con más visitas',\n",
    "                            'Artistas con más likes',\n",
    "                            'VISITAS',\n",
    "                            'LIKES',\n",
    "                            '1_comparacion_visitas_likes.png')"
   ]
  },
  {
   "cell_type": "markdown",
   "metadata": {},
   "source": [
    "*Observando la gráfica, no podría asegurarse que haya una fuerte relación entre el número de visitas y de likes, ya que menos de la mitad de los artistas de nuestras gráficas aparecen en las dos, aunque lo lógico sería pensar que esta relación sí debería darse. Podemos pensar que quizá solo 10 artistas del total no sea una gran muestra para sacar conclusiones. Vamos a ver si hay una correlación entre el número de visitas y de likes. Hemos decidido estudiar también en este caso la columna de comments, ya que también puede darnos información de cómo interaccionan los usuarios con las canciones.*"
   ]
  },
  {
   "cell_type": "code",
   "execution_count": 179,
   "metadata": {},
   "outputs": [
    {
     "data": {
      "text/html": [
       "<div>\n",
       "<style scoped>\n",
       "    .dataframe tbody tr th:only-of-type {\n",
       "        vertical-align: middle;\n",
       "    }\n",
       "\n",
       "    .dataframe tbody tr th {\n",
       "        vertical-align: top;\n",
       "    }\n",
       "\n",
       "    .dataframe thead th {\n",
       "        text-align: right;\n",
       "    }\n",
       "</style>\n",
       "<table border=\"1\" class=\"dataframe\">\n",
       "  <thead>\n",
       "    <tr style=\"text-align: right;\">\n",
       "      <th></th>\n",
       "      <th>views</th>\n",
       "      <th>likes</th>\n",
       "      <th>comments</th>\n",
       "    </tr>\n",
       "  </thead>\n",
       "  <tbody>\n",
       "    <tr>\n",
       "      <th>0</th>\n",
       "      <td>693555221.0</td>\n",
       "      <td>6220896.0</td>\n",
       "      <td>169907.0</td>\n",
       "    </tr>\n",
       "    <tr>\n",
       "      <th>1</th>\n",
       "      <td>72011645.0</td>\n",
       "      <td>1079128.0</td>\n",
       "      <td>31003.0</td>\n",
       "    </tr>\n",
       "    <tr>\n",
       "      <th>2</th>\n",
       "      <td>8435055.0</td>\n",
       "      <td>282142.0</td>\n",
       "      <td>7399.0</td>\n",
       "    </tr>\n",
       "  </tbody>\n",
       "</table>\n",
       "</div>"
      ],
      "text/plain": [
       "         views      likes  comments\n",
       "0  693555221.0  6220896.0  169907.0\n",
       "1   72011645.0  1079128.0   31003.0\n",
       "2    8435055.0   282142.0    7399.0"
      ]
     },
     "execution_count": 179,
     "metadata": {},
     "output_type": "execute_result"
    }
   ],
   "source": [
    "#creamos el df con las columnas que nos interesa analizar, ya que el df original tiene muchas columnas que no nos interesan en este análisis en particular y nos generan ruido.\n",
    "df_correlacion = df_spotify[['views', 'likes', 'comments']]\n",
    "df_correlacion.head(3)"
   ]
  },
  {
   "cell_type": "code",
   "execution_count": 180,
   "metadata": {},
   "outputs": [
    {
     "data": {
      "image/png": "[encoded data removed]",
      "text/plain": [
       "<Figure size 600x200 with 2 Axes>"
      ]
     },
     "metadata": {},
     "output_type": "display_data"
    }
   ],
   "source": [
    "#usamos el coeficiente de correlación de Pearson y lo mostramos en una gráfica\n",
    "plt.figure(figsize = (6,2))\n",
    "fig = sns.heatmap(df_correlacion.corr(), cmap = 'mako', annot = True, vmin = -1, vmax = 1)\n",
    "plt.savefig('4_correlacion_global.png')"
   ]
  },
  {
   "cell_type": "markdown",
   "metadata": {},
   "source": [
    "*A diferencia de nuestra conclusión basada en las gráficas, comprobamos que sí existe una fuerte relación entre el número de visitas y de likes, a más visitas tengamos, más likes tendremos también, lo cual tiene más sentido que nuestra conclusión inicial. Podríamos ver también una relación moderada entre el número de likes y comentarios (tendría sentido ya que son formas de interaccionar con una canción).*"
   ]
  },
  {
   "cell_type": "markdown",
   "metadata": {},
   "source": [
    "**BONUS**"
   ]
  },
  {
   "cell_type": "code",
   "execution_count": 181,
   "metadata": {},
   "outputs": [
    {
     "data": {
      "text/html": [
       "<div>\n",
       "<style scoped>\n",
       "    .dataframe tbody tr th:only-of-type {\n",
       "        vertical-align: middle;\n",
       "    }\n",
       "\n",
       "    .dataframe tbody tr th {\n",
       "        vertical-align: top;\n",
       "    }\n",
       "\n",
       "    .dataframe thead th {\n",
       "        text-align: right;\n",
       "    }\n",
       "</style>\n",
       "<table border=\"1\" class=\"dataframe\">\n",
       "  <thead>\n",
       "    <tr style=\"text-align: right;\">\n",
       "      <th></th>\n",
       "      <th>artist</th>\n",
       "      <th>views</th>\n",
       "      <th>likes</th>\n",
       "    </tr>\n",
       "  </thead>\n",
       "  <tbody>\n",
       "    <tr>\n",
       "      <th>221</th>\n",
       "      <td>Charlie Puth</td>\n",
       "      <td>2.935089e+09</td>\n",
       "      <td>20873473.5</td>\n",
       "    </tr>\n",
       "    <tr>\n",
       "      <th>1027</th>\n",
       "      <td>Rihanna</td>\n",
       "      <td>2.626030e+09</td>\n",
       "      <td>10603656.0</td>\n",
       "    </tr>\n",
       "    <tr>\n",
       "      <th>944</th>\n",
       "      <td>PSY</td>\n",
       "      <td>2.520605e+09</td>\n",
       "      <td>14396842.0</td>\n",
       "    </tr>\n",
       "  </tbody>\n",
       "</table>\n",
       "</div>"
      ],
      "text/plain": [
       "            artist         views       likes\n",
       "221   Charlie Puth  2.935089e+09  20873473.5\n",
       "1027       Rihanna  2.626030e+09  10603656.0\n",
       "944            PSY  2.520605e+09  14396842.0"
      ]
     },
     "execution_count": 181,
     "metadata": {},
     "output_type": "execute_result"
    }
   ],
   "source": [
    "#creamos un df nuevo agrupando por artista en base a la media de las columnas que se piden.\n",
    "df_visitas_likes_single = df_single.groupby('artist')[['views', 'likes']].mean().reset_index()\n",
    "\n",
    "df_visitas_top_single = seleccion_top(df_visitas_likes_single, ['views'])\n",
    "df_visitas_top_single.head(3)"
   ]
  },
  {
   "cell_type": "code",
   "execution_count": 182,
   "metadata": {},
   "outputs": [
    {
     "name": "stdout",
     "output_type": "stream",
     "text": [
      "En la categoría SINGLE,\n",
      "Los 10 artistas que más visitas han tenido son, de mayor a menor:\n",
      "Charlie Puth, Rihanna, PSY, Twenty One Pilots, Wiz Khalifa, BLACKPINK, Calvin Harris, Daddy Yankee, Christina Perri, Macklemore & Ryan Lewis.\n"
     ]
    }
   ],
   "source": [
    "print('En la categoría SINGLE,')\n",
    "imprimir_top(df_visitas_top_single, 'artist')"
   ]
  },
  {
   "cell_type": "code",
   "execution_count": 183,
   "metadata": {},
   "outputs": [
    {
     "data": {
      "text/html": [
       "<div>\n",
       "<style scoped>\n",
       "    .dataframe tbody tr th:only-of-type {\n",
       "        vertical-align: middle;\n",
       "    }\n",
       "\n",
       "    .dataframe tbody tr th {\n",
       "        vertical-align: top;\n",
       "    }\n",
       "\n",
       "    .dataframe thead th {\n",
       "        text-align: right;\n",
       "    }\n",
       "</style>\n",
       "<table border=\"1\" class=\"dataframe\">\n",
       "  <thead>\n",
       "    <tr style=\"text-align: right;\">\n",
       "      <th></th>\n",
       "      <th>artist</th>\n",
       "      <th>views</th>\n",
       "      <th>likes</th>\n",
       "    </tr>\n",
       "  </thead>\n",
       "  <tbody>\n",
       "    <tr>\n",
       "      <th>221</th>\n",
       "      <td>Charlie Puth</td>\n",
       "      <td>2.935089e+09</td>\n",
       "      <td>20873473.5</td>\n",
       "    </tr>\n",
       "    <tr>\n",
       "      <th>107</th>\n",
       "      <td>BLACKPINK</td>\n",
       "      <td>1.465903e+09</td>\n",
       "      <td>16591806.0</td>\n",
       "    </tr>\n",
       "    <tr>\n",
       "      <th>1245</th>\n",
       "      <td>Twenty One Pilots</td>\n",
       "      <td>1.987867e+09</td>\n",
       "      <td>15003359.0</td>\n",
       "    </tr>\n",
       "  </tbody>\n",
       "</table>\n",
       "</div>"
      ],
      "text/plain": [
       "                 artist         views       likes\n",
       "221        Charlie Puth  2.935089e+09  20873473.5\n",
       "107           BLACKPINK  1.465903e+09  16591806.0\n",
       "1245  Twenty One Pilots  1.987867e+09  15003359.0"
      ]
     },
     "execution_count": 183,
     "metadata": {},
     "output_type": "execute_result"
    }
   ],
   "source": [
    "df_likes_top_single = seleccion_top(df_visitas_likes_single, ['likes'])\n",
    "df_likes_top_single.head(3)"
   ]
  },
  {
   "cell_type": "code",
   "execution_count": 184,
   "metadata": {},
   "outputs": [
    {
     "name": "stdout",
     "output_type": "stream",
     "text": [
      "En la categoría SINGLE,\n",
      "Los 10 artistas que más visitas han tenido son, de mayor a menor:\n",
      "Charlie Puth, BLACKPINK, Twenty One Pilots, PSY, Childish Gambino, Wiz Khalifa, j-hope, Rihanna, BTS, Bastille.\n"
     ]
    }
   ],
   "source": [
    "print('En la categoría SINGLE,')\n",
    "imprimir_top(df_likes_top_single, 'artist')"
   ]
  },
  {
   "cell_type": "markdown",
   "metadata": {},
   "source": [
    "*Podemos observar como en la categoría singles, tanto la media de visitas como la de likes son más altas respecto al global. Esto podría sugerir que los singles son los más vistos por los usuarios y el tipo de álbum con el que más interactúan.*"
   ]
  },
  {
   "cell_type": "code",
   "execution_count": 185,
   "metadata": {},
   "outputs": [
    {
     "data": {
      "image/png": "[encoded data removed]",
      "text/plain": [
       "<Figure size 1200x500 with 2 Axes>"
      ]
     },
     "metadata": {},
     "output_type": "display_data"
    }
   ],
   "source": [
    "#creamos una nueva gráfica para la categoría single.\n",
    "paleta_vis_single = sns.color_palette('Purples_r_d', 13)\n",
    "paleta_vis_single.color_nombre_x = 'slateblue'\n",
    "paleta_likes_single = sns.cubehelix_palette(13, start=.13, rot=-.5, reverse = True)\n",
    "paleta_likes_single.color_nombre_x = 'darkseagreen'\n",
    "\n",
    "crear_subplot_personalizado(df_visitas_top_single,\n",
    "                            df_likes_top_single,\n",
    "                            'views',\n",
    "                            'likes',\n",
    "                            'artist',\n",
    "                            paleta_vis_single,\n",
    "                            paleta_likes_single,\n",
    "                            'COMPARACIÓN ENTRE VISITAS Y LIKES POR ARTISTAS. CATEGORÍA SINGLE',\n",
    "                            'Artistas con más visitas. Categoría single',\n",
    "                            'Artistas con más likes. Categoría single',\n",
    "                            'VISITAS',\n",
    "                            'LIKES',\n",
    "                            '2_comparacion_visitas_likes_single.png')"
   ]
  },
  {
   "cell_type": "markdown",
   "metadata": {},
   "source": [
    "*En la categoría single, las gráficas nos muestran una relación similar a la del cómputo global. Vamos a analizarlo de nuevo con la correlación de Pearson.*"
   ]
  },
  {
   "cell_type": "code",
   "execution_count": 186,
   "metadata": {},
   "outputs": [
    {
     "data": {
      "text/html": [
       "<div>\n",
       "<style scoped>\n",
       "    .dataframe tbody tr th:only-of-type {\n",
       "        vertical-align: middle;\n",
       "    }\n",
       "\n",
       "    .dataframe tbody tr th {\n",
       "        vertical-align: top;\n",
       "    }\n",
       "\n",
       "    .dataframe thead th {\n",
       "        text-align: right;\n",
       "    }\n",
       "</style>\n",
       "<table border=\"1\" class=\"dataframe\">\n",
       "  <thead>\n",
       "    <tr style=\"text-align: right;\">\n",
       "      <th></th>\n",
       "      <th>album_type</th>\n",
       "      <th>views</th>\n",
       "      <th>likes</th>\n",
       "      <th>comments</th>\n",
       "    </tr>\n",
       "  </thead>\n",
       "  <tbody>\n",
       "    <tr>\n",
       "      <th>0</th>\n",
       "      <td>album</td>\n",
       "      <td>693555221.0</td>\n",
       "      <td>6220896.0</td>\n",
       "      <td>169907.0</td>\n",
       "    </tr>\n",
       "    <tr>\n",
       "      <th>1</th>\n",
       "      <td>album</td>\n",
       "      <td>72011645.0</td>\n",
       "      <td>1079128.0</td>\n",
       "      <td>31003.0</td>\n",
       "    </tr>\n",
       "    <tr>\n",
       "      <th>2</th>\n",
       "      <td>single</td>\n",
       "      <td>8435055.0</td>\n",
       "      <td>282142.0</td>\n",
       "      <td>7399.0</td>\n",
       "    </tr>\n",
       "  </tbody>\n",
       "</table>\n",
       "</div>"
      ],
      "text/plain": [
       "  album_type        views      likes  comments\n",
       "0      album  693555221.0  6220896.0  169907.0\n",
       "1      album   72011645.0  1079128.0   31003.0\n",
       "2     single    8435055.0   282142.0    7399.0"
      ]
     },
     "execution_count": 186,
     "metadata": {},
     "output_type": "execute_result"
    }
   ],
   "source": [
    "df_correlacion_single = df_spotify[['album_type', 'views', 'likes', 'comments']]\n",
    "df_correlacion_single.head(3)"
   ]
  },
  {
   "cell_type": "code",
   "execution_count": 187,
   "metadata": {},
   "outputs": [
    {
     "data": {
      "text/html": [
       "<div>\n",
       "<style scoped>\n",
       "    .dataframe tbody tr th:only-of-type {\n",
       "        vertical-align: middle;\n",
       "    }\n",
       "\n",
       "    .dataframe tbody tr th {\n",
       "        vertical-align: top;\n",
       "    }\n",
       "\n",
       "    .dataframe thead th {\n",
       "        text-align: right;\n",
       "    }\n",
       "</style>\n",
       "<table border=\"1\" class=\"dataframe\">\n",
       "  <thead>\n",
       "    <tr style=\"text-align: right;\">\n",
       "      <th></th>\n",
       "      <th>album_type</th>\n",
       "      <th>views</th>\n",
       "      <th>likes</th>\n",
       "      <th>comments</th>\n",
       "    </tr>\n",
       "  </thead>\n",
       "  <tbody>\n",
       "    <tr>\n",
       "      <th>2</th>\n",
       "      <td>single</td>\n",
       "      <td>8435055.0</td>\n",
       "      <td>282142.0</td>\n",
       "      <td>7399.0</td>\n",
       "    </tr>\n",
       "    <tr>\n",
       "      <th>6</th>\n",
       "      <td>single</td>\n",
       "      <td>451996.0</td>\n",
       "      <td>11686.0</td>\n",
       "      <td>241.0</td>\n",
       "    </tr>\n",
       "    <tr>\n",
       "      <th>8</th>\n",
       "      <td>single</td>\n",
       "      <td>24459820.0</td>\n",
       "      <td>739527.0</td>\n",
       "      <td>20296.0</td>\n",
       "    </tr>\n",
       "  </tbody>\n",
       "</table>\n",
       "</div>"
      ],
      "text/plain": [
       "  album_type       views     likes  comments\n",
       "2     single   8435055.0  282142.0    7399.0\n",
       "6     single    451996.0   11686.0     241.0\n",
       "8     single  24459820.0  739527.0   20296.0"
      ]
     },
     "execution_count": 187,
     "metadata": {},
     "output_type": "execute_result"
    }
   ],
   "source": [
    "# creamos el df con las mismas columnas, pero filtrando por la categoría single.\n",
    "df_correlacion_single = df_correlacion_single[df_correlacion_single['album_type'].isin(['single'])]\n",
    "df_correlacion_single.head(3)"
   ]
  },
  {
   "cell_type": "code",
   "execution_count": 188,
   "metadata": {},
   "outputs": [
    {
     "data": {
      "image/png": "[encoded data removed]",
      "text/plain": [
       "<Figure size 600x200 with 2 Axes>"
      ]
     },
     "metadata": {},
     "output_type": "display_data"
    }
   ],
   "source": [
    "plt.figure(figsize = (6,2))\n",
    "fig = sns.heatmap(df_correlacion_single.corr(numeric_only = True), cmap = 'rocket', annot = True, vmin = -1, vmax = 1)\n",
    "plt.savefig('5_correlacion_single.png')"
   ]
  },
  {
   "cell_type": "markdown",
   "metadata": {},
   "source": [
    "*De nuevo observamos una fuerte relación entre el número de visitas y de likes. Y en el caso de la categoría single, podemos observar como la relación entre el número de likes y comentarios, y el número de comentarios y visitas aumenta respecto al cómputo global. Esto podría hacernos pensar que los usuarios interaccionan más veces con los singles que con el resto.*"
   ]
  },
  {
   "cell_type": "markdown",
   "metadata": {},
   "source": [
    "*Siguiendo con nuestro análisis, podríamos comprobar si los 10 artistas que más visitas reciben también son los que más visitan reciben en sus singles.*"
   ]
  },
  {
   "cell_type": "code",
   "execution_count": 189,
   "metadata": {},
   "outputs": [
    {
     "data": {
      "image/png": "[encoded data removed]",
      "text/plain": [
       "<Figure size 1200x500 with 2 Axes>"
      ]
     },
     "metadata": {},
     "output_type": "display_data"
    }
   ],
   "source": [
    "crear_subplot_personalizado(df_visitas_top,\n",
    "                            df_visitas_top_single,\n",
    "                            'views',\n",
    "                            'views',\n",
    "                            'artist',\n",
    "                            paleta_vis_global,\n",
    "                            paleta_vis_single,\n",
    "                            'COMPARACIÓN ENTRE VISITAS GLOBALES Y VISITAS EN SINGLES',\n",
    "                            'Artistas con más visitas. Global',\n",
    "                            'Artistas con más visitas. Categoría single',\n",
    "                            'VISITAS',\n",
    "                            'VISITAS CATEGORÍA SINGLE',\n",
    "                            '3_comparacion_visitas_glob_visitas_single.png')"
   ]
  },
  {
   "cell_type": "markdown",
   "metadata": {},
   "source": [
    "*Observando los dos gráficos, vemos que no hay mucha relación entre los artistas de ambas gráficas. Podríamos pensar que los artistas que tienen más éxito con sus singles quizá en realidad no son los más escuchados en el cómputo global.*"
   ]
  },
  {
   "cell_type": "code",
   "execution_count": 190,
   "metadata": {},
   "outputs": [
    {
     "data": {
      "image/png": "[encoded data removed]",
      "text/plain": [
       "<Figure size 1200x500 with 2 Axes>"
      ]
     },
     "metadata": {},
     "output_type": "display_data"
    }
   ],
   "source": [
    "crear_subplot_personalizado(df_likes_top,\n",
    "                            df_likes_top_single,\n",
    "                            'likes',\n",
    "                            'likes',\n",
    "                            'artist',\n",
    "                            paleta_likes_global,\n",
    "                            paleta_likes_single,\n",
    "                            'COMPARACIÓN ENTRE LIKES GLOBALES Y LIKES EN SINGLES',\n",
    "                            'Artistas con más likes. Global',\n",
    "                            'Artistas con más likes. Categoría single',\n",
    "                            'LIKES',\n",
    "                            'LIKES CATEGORÍA SINGLE',\n",
    "                            '3_comparacion_visitas_glob_visitas_single.png')"
   ]
  },
  {
   "cell_type": "markdown",
   "metadata": {},
   "source": [
    "*Lo mismo sucede con los likes. Vemos que para el top 3 de los artistas con más likes sí se refleja en la categoría single (sus singles tambíen acumulan muchos likes), pero en el resto no parece estar tan claro. Habría que hacer un análisis más exhaustivo para establecer posibles correlaciones.*"
   ]
  },
  {
   "cell_type": "markdown",
   "metadata": {},
   "source": [
    "-----------------------"
   ]
  },
  {
   "cell_type": "markdown",
   "metadata": {},
   "source": [
    "- Ahora queremos analizar la colaboración entre artistas en la industria musical, se tienen datos de las colaboraciones realizadas en los últimos años. Se desea conocer cuáles son los artistas que han colaborado en mayor cantidad de canciones y generar un ranking con los diez primeros. ¿Qué artistas son los que más colaboraciones tienen? Para esto tendréis que:\n",
    "    - Filtrad los datos para quedaros solo con aquellos datos donde en la columna \"track\" tengamos \"feat\".\n",
    "    - Contad cuantas canciones tiene cada artista utilizando el dataframe generado en el paso anterior.\n",
    "    - Mostrad los resultados en una gráfica, seleccionado los 10 artistas con más colaboraciones.\n",
    "    - Deberéis contestar a las siguientes preguntas:\n",
    "        - ¿Cuáles son los diez artistas que más han colaborado según los datos que tenemos?\n",
    "        - ¿Cuál es el número de canciones en los que ha colaborado el artista que ocupa el primer lugar en el ranking?\n",
    "        - ¿Cuál es el artista que ocupa el décimo lugar en el ranking y en cuántas canciones ha colaborado?"
   ]
  },
  {
   "cell_type": "code",
   "execution_count": 191,
   "metadata": {},
   "outputs": [],
   "source": [
    "#filtramos por el valor feat de la columna track\n",
    "df_colabs = df_spotify[df_spotify['track'].str.contains('feat')]"
   ]
  },
  {
   "cell_type": "code",
   "execution_count": 192,
   "metadata": {},
   "outputs": [],
   "source": [
    "#contamos el número de veces que aparece cada artista.\n",
    "df_num_colabs = df_colabs['artist'].value_counts().reset_index()"
   ]
  },
  {
   "cell_type": "code",
   "execution_count": 193,
   "metadata": {},
   "outputs": [
    {
     "data": {
      "text/html": [
       "<div>\n",
       "<style scoped>\n",
       "    .dataframe tbody tr th:only-of-type {\n",
       "        vertical-align: middle;\n",
       "    }\n",
       "\n",
       "    .dataframe tbody tr th {\n",
       "        vertical-align: top;\n",
       "    }\n",
       "\n",
       "    .dataframe thead th {\n",
       "        text-align: right;\n",
       "    }\n",
       "</style>\n",
       "<table border=\"1\" class=\"dataframe\">\n",
       "  <thead>\n",
       "    <tr style=\"text-align: right;\">\n",
       "      <th></th>\n",
       "      <th>artist</th>\n",
       "      <th>count</th>\n",
       "    </tr>\n",
       "  </thead>\n",
       "  <tbody>\n",
       "    <tr>\n",
       "      <th>0</th>\n",
       "      <td>Juicy J</td>\n",
       "      <td>10</td>\n",
       "    </tr>\n",
       "    <tr>\n",
       "      <th>2</th>\n",
       "      <td>Bibi und Tina</td>\n",
       "      <td>10</td>\n",
       "    </tr>\n",
       "    <tr>\n",
       "      <th>1</th>\n",
       "      <td>Macklemore</td>\n",
       "      <td>10</td>\n",
       "    </tr>\n",
       "    <tr>\n",
       "      <th>3</th>\n",
       "      <td>DJ Khaled</td>\n",
       "      <td>9</td>\n",
       "    </tr>\n",
       "    <tr>\n",
       "      <th>4</th>\n",
       "      <td>Ty Dolla ign</td>\n",
       "      <td>9</td>\n",
       "    </tr>\n",
       "    <tr>\n",
       "      <th>5</th>\n",
       "      <td>Wu-Tang Clan</td>\n",
       "      <td>9</td>\n",
       "    </tr>\n",
       "    <tr>\n",
       "      <th>10</th>\n",
       "      <td>Popcaan</td>\n",
       "      <td>8</td>\n",
       "    </tr>\n",
       "    <tr>\n",
       "      <th>13</th>\n",
       "      <td>Macklemore &amp; Ryan Lewis</td>\n",
       "      <td>8</td>\n",
       "    </tr>\n",
       "    <tr>\n",
       "      <th>12</th>\n",
       "      <td>Clean Bandit</td>\n",
       "      <td>8</td>\n",
       "    </tr>\n",
       "    <tr>\n",
       "      <th>11</th>\n",
       "      <td>thasup</td>\n",
       "      <td>8</td>\n",
       "    </tr>\n",
       "  </tbody>\n",
       "</table>\n",
       "</div>"
      ],
      "text/plain": [
       "                     artist  count\n",
       "0                   Juicy J     10\n",
       "2             Bibi und Tina     10\n",
       "1                Macklemore     10\n",
       "3                 DJ Khaled      9\n",
       "4              Ty Dolla ign      9\n",
       "5              Wu-Tang Clan      9\n",
       "10                  Popcaan      8\n",
       "13  Macklemore & Ryan Lewis      8\n",
       "12             Clean Bandit      8\n",
       "11                   thasup      8"
      ]
     },
     "execution_count": 193,
     "metadata": {},
     "output_type": "execute_result"
    }
   ],
   "source": [
    "#pasamos la función creada previamente para quedarnos con el top 10\n",
    "df_num_colabs_top = seleccion_top(df_num_colabs, 'count')\n",
    "df_num_colabs_top"
   ]
  },
  {
   "cell_type": "code",
   "execution_count": 194,
   "metadata": {},
   "outputs": [
    {
     "data": {
      "text/html": [
       "<div>\n",
       "<style scoped>\n",
       "    .dataframe tbody tr th:only-of-type {\n",
       "        vertical-align: middle;\n",
       "    }\n",
       "\n",
       "    .dataframe tbody tr th {\n",
       "        vertical-align: top;\n",
       "    }\n",
       "\n",
       "    .dataframe thead th {\n",
       "        text-align: right;\n",
       "    }\n",
       "</style>\n",
       "<table border=\"1\" class=\"dataframe\">\n",
       "  <thead>\n",
       "    <tr style=\"text-align: right;\">\n",
       "      <th></th>\n",
       "      <th>artist</th>\n",
       "      <th>count</th>\n",
       "    </tr>\n",
       "  </thead>\n",
       "  <tbody>\n",
       "    <tr>\n",
       "      <th>0</th>\n",
       "      <td>Juicy J</td>\n",
       "      <td>10</td>\n",
       "    </tr>\n",
       "    <tr>\n",
       "      <th>1</th>\n",
       "      <td>Macklemore</td>\n",
       "      <td>10</td>\n",
       "    </tr>\n",
       "    <tr>\n",
       "      <th>2</th>\n",
       "      <td>Bibi und Tina</td>\n",
       "      <td>10</td>\n",
       "    </tr>\n",
       "    <tr>\n",
       "      <th>3</th>\n",
       "      <td>DJ Khaled</td>\n",
       "      <td>9</td>\n",
       "    </tr>\n",
       "    <tr>\n",
       "      <th>4</th>\n",
       "      <td>Ty Dolla ign</td>\n",
       "      <td>9</td>\n",
       "    </tr>\n",
       "    <tr>\n",
       "      <th>5</th>\n",
       "      <td>Wu-Tang Clan</td>\n",
       "      <td>9</td>\n",
       "    </tr>\n",
       "    <tr>\n",
       "      <th>6</th>\n",
       "      <td>Wale</td>\n",
       "      <td>8</td>\n",
       "    </tr>\n",
       "    <tr>\n",
       "      <th>7</th>\n",
       "      <td>Wizkid</td>\n",
       "      <td>8</td>\n",
       "    </tr>\n",
       "    <tr>\n",
       "      <th>8</th>\n",
       "      <td>Mark Ronson</td>\n",
       "      <td>8</td>\n",
       "    </tr>\n",
       "    <tr>\n",
       "      <th>9</th>\n",
       "      <td>B.o.B</td>\n",
       "      <td>8</td>\n",
       "    </tr>\n",
       "    <tr>\n",
       "      <th>10</th>\n",
       "      <td>Popcaan</td>\n",
       "      <td>8</td>\n",
       "    </tr>\n",
       "    <tr>\n",
       "      <th>11</th>\n",
       "      <td>thasup</td>\n",
       "      <td>8</td>\n",
       "    </tr>\n",
       "    <tr>\n",
       "      <th>12</th>\n",
       "      <td>Clean Bandit</td>\n",
       "      <td>8</td>\n",
       "    </tr>\n",
       "    <tr>\n",
       "      <th>13</th>\n",
       "      <td>Macklemore &amp; Ryan Lewis</td>\n",
       "      <td>8</td>\n",
       "    </tr>\n",
       "    <tr>\n",
       "      <th>14</th>\n",
       "      <td>French Montana</td>\n",
       "      <td>7</td>\n",
       "    </tr>\n",
       "  </tbody>\n",
       "</table>\n",
       "</div>"
      ],
      "text/plain": [
       "                     artist  count\n",
       "0                   Juicy J     10\n",
       "1                Macklemore     10\n",
       "2             Bibi und Tina     10\n",
       "3                 DJ Khaled      9\n",
       "4              Ty Dolla ign      9\n",
       "5              Wu-Tang Clan      9\n",
       "6                      Wale      8\n",
       "7                    Wizkid      8\n",
       "8               Mark Ronson      8\n",
       "9                     B.o.B      8\n",
       "10                  Popcaan      8\n",
       "11                   thasup      8\n",
       "12             Clean Bandit      8\n",
       "13  Macklemore & Ryan Lewis      8\n",
       "14           French Montana      7"
      ]
     },
     "execution_count": 194,
     "metadata": {},
     "output_type": "execute_result"
    }
   ],
   "source": [
    "#vemos que el df anterior podría llevarnos a error si hay más artistas con 8 colaboraciones, que estarían empatados y no sería un top 10 real. \n",
    "#aumentamos el iloc para ver hasta donde llega, vemos que tenemos hasta el índice 13 de empatados a 8.\n",
    "df_num_colabs.iloc[:15, :]"
   ]
  },
  {
   "cell_type": "code",
   "execution_count": 195,
   "metadata": {},
   "outputs": [],
   "source": [
    "#Aunque nos piden el top 10, en este caso hemos decidido incluir el resto de artistas con 8 colaboraciones, para que no queden eliminados por azar.\n",
    "#nos queda un df con 14 registros.\n",
    "df_num_colabs = df_num_colabs.iloc[:14, :]"
   ]
  },
  {
   "cell_type": "code",
   "execution_count": 196,
   "metadata": {},
   "outputs": [
    {
     "data": {
      "image/png": "[encoded data removed]",
      "text/plain": [
       "<Figure size 900x600 with 1 Axes>"
      ]
     },
     "metadata": {},
     "output_type": "display_data"
    }
   ],
   "source": [
    "#creamos nuestra gráfica. \n",
    "plt.figure(figsize =(9,6))\n",
    "\n",
    "sns.barplot(data = df_num_colabs, y = 'artist', x = 'count', palette = sns.color_palette(\"flare_r\", 15)) \n",
    "\n",
    "plt.title('ARTISTAS CON MÁS COLABORACIONES', color = 'dimgrey', fontweight='bold', fontsize = 18)\n",
    "\n",
    "plt.xlabel('NÚMERO DE COLABORACIONES', color = 'salmon', fontweight='bold', fontsize = 10)\n",
    "plt.ylabel('')\n",
    "\n",
    "plt.savefig('6_colaboraciones_artistas.png')\n",
    "\n",
    "plt.show();"
   ]
  },
  {
   "cell_type": "code",
   "execution_count": 197,
   "metadata": {},
   "outputs": [
    {
     "name": "stdout",
     "output_type": "stream",
     "text": [
      "Los artistas que más colaboraciones han tenido son, de mayor a menor:\n",
      "Con 10 colaboraciones: Juicy J, Macklemore, Bibi und Tina.\n",
      "Con 9 colaboraciones: DJ Khaled, Ty Dolla ign, Wu-Tang Clan.\n",
      "Con 8 colaboraciones: Wale, Wizkid, Mark Ronson, B.o.B, Popcaan, thasup, Clean Bandit, Macklemore & Ryan Lewis.\n"
     ]
    }
   ],
   "source": [
    "print(f'''Los artistas que más colaboraciones han tenido son, de mayor a menor:\n",
    "Con 10 colaboraciones: {\", \".join(list(df_num_colabs['artist'][:3]))}.\n",
    "Con 9 colaboraciones: {\", \".join(list(df_num_colabs['artist'][3:6]))}.\n",
    "Con 8 colaboraciones: {\", \".join(list(df_num_colabs['artist'][6:]))}.''')"
   ]
  },
  {
   "cell_type": "code",
   "execution_count": 198,
   "metadata": {},
   "outputs": [
    {
     "name": "stdout",
     "output_type": "stream",
     "text": [
      "El artista en el primer puesto del ránking, Juicy J, ha colaborado en 10 canciones.\n"
     ]
    }
   ],
   "source": [
    "print(f'El artista en el primer puesto del ránking, {df_num_colabs[\"artist\"][0]}, ha colaborado en {df_num_colabs[\"count\"][0]} canciones.')"
   ]
  },
  {
   "cell_type": "code",
   "execution_count": 199,
   "metadata": {},
   "outputs": [
    {
     "name": "stdout",
     "output_type": "stream",
     "text": [
      "El décimo lugar del ranking lo ocupa B.o.B.\n"
     ]
    }
   ],
   "source": [
    "print(f'El décimo lugar del ranking lo ocupa {df_num_colabs[\"artist\"][9]}.')"
   ]
  },
  {
   "cell_type": "markdown",
   "metadata": {},
   "source": [
    "------------------------"
   ]
  },
  {
   "cell_type": "markdown",
   "metadata": {},
   "source": [
    "- Utilizando el dataframe original, queremos explorar si el tipo de álbum influye en la cantidad de vistas que recibe en una plataforma de transmisión de música. Para ello, debemos generar un boxplot con las variables necesarias y responder las siguientes preguntas."
   ]
  },
  {
   "cell_type": "code",
   "execution_count": 200,
   "metadata": {},
   "outputs": [],
   "source": [
    "my_palette = {'album':'darkcyan', 'single':'indianred', 'compilation':'mediumpurple'}"
   ]
  },
  {
   "cell_type": "code",
   "execution_count": 201,
   "metadata": {},
   "outputs": [
    {
     "data": {
      "image/png": "[encoded data removed]",
      "text/plain": [
       "<Figure size 1500x300 with 1 Axes>"
      ]
     },
     "metadata": {},
     "output_type": "display_data"
    }
   ],
   "source": [
    "plt.figure(figsize =(15,3))\n",
    "\n",
    "fig = sns.boxplot(data = df_spotify, x ='views', y = 'album_type', palette = my_palette)\n",
    "\n",
    "fig.set(xlabel= 'NÚMERO DE VISITAS')\n",
    "fig.set(ylabel= 'TIPO DE ÁLBUM')\n",
    "\n",
    "fig.set_title('RELACIÓN ENTRE TIPO DE ÁLBUM Y NÚMERO DE VISITAS', color = 'dimgrey', fontweight='bold', fontsize = 18)\n",
    "\n",
    "plt.savefig('7_boxplot_tipos_album')\n",
    "\n",
    "plt.show()"
   ]
  },
  {
   "cell_type": "markdown",
   "metadata": {},
   "source": [
    "*Lo primero que nos llama la atención de esta gráfica es el gran número de valores atípicos que tenemos. Esto seguramente se deba a grandes éxitos que son escuchados muchísimas veces más que el grueso de canciones y no entran en nuestros límites de la caja. Nos llama especialmente la atención un valor que está muy alejado incluso del resto de valores atípicos. Vamos a consultar en el df de qué canción se trata, aunque podemos imaginarnos cual es.*"
   ]
  },
  {
   "cell_type": "code",
   "execution_count": 202,
   "metadata": {},
   "outputs": [
    {
     "data": {
      "text/html": [
       "<div>\n",
       "<style scoped>\n",
       "    .dataframe tbody tr th:only-of-type {\n",
       "        vertical-align: middle;\n",
       "    }\n",
       "\n",
       "    .dataframe tbody tr th {\n",
       "        vertical-align: top;\n",
       "    }\n",
       "\n",
       "    .dataframe thead th {\n",
       "        text-align: right;\n",
       "    }\n",
       "</style>\n",
       "<table border=\"1\" class=\"dataframe\">\n",
       "  <thead>\n",
       "    <tr style=\"text-align: right;\">\n",
       "      <th></th>\n",
       "      <th>artist</th>\n",
       "      <th>url_spotify</th>\n",
       "      <th>track</th>\n",
       "      <th>album</th>\n",
       "      <th>album_type</th>\n",
       "      <th>uri</th>\n",
       "      <th>danceability</th>\n",
       "      <th>energy</th>\n",
       "      <th>key</th>\n",
       "      <th>loudness</th>\n",
       "      <th>speechiness</th>\n",
       "      <th>acousticness</th>\n",
       "      <th>instrumentalness</th>\n",
       "      <th>liveness</th>\n",
       "      <th>valence</th>\n",
       "      <th>tempo</th>\n",
       "      <th>duration_ms</th>\n",
       "      <th>url_youtube</th>\n",
       "      <th>title</th>\n",
       "      <th>channel</th>\n",
       "      <th>views</th>\n",
       "      <th>likes</th>\n",
       "      <th>comments</th>\n",
       "      <th>description</th>\n",
       "      <th>licensed</th>\n",
       "      <th>official_video</th>\n",
       "      <th>stream</th>\n",
       "    </tr>\n",
       "  </thead>\n",
       "  <tbody>\n",
       "    <tr>\n",
       "      <th>1147</th>\n",
       "      <td>Luis Fonsi</td>\n",
       "      <td>https://open.spotify.com/artist/4V8Sr092TqfHkf...</td>\n",
       "      <td>despacito</td>\n",
       "      <td>vida</td>\n",
       "      <td>album</td>\n",
       "      <td>spotify:track:6habFhsOp2NvshLv26DqMb</td>\n",
       "      <td>0.655</td>\n",
       "      <td>0.797</td>\n",
       "      <td>2.0</td>\n",
       "      <td>-4.787</td>\n",
       "      <td>0.153</td>\n",
       "      <td>0.198</td>\n",
       "      <td>0.0</td>\n",
       "      <td>0.067</td>\n",
       "      <td>0.839</td>\n",
       "      <td>177.928</td>\n",
       "      <td>229360.0</td>\n",
       "      <td>https://www.youtube.com/watch?v=kJQP7kiw5Fk</td>\n",
       "      <td>luis fonsi - despacito ft. daddy yankee</td>\n",
       "      <td>LuisFonsiVEVO</td>\n",
       "      <td>8.079649e+09</td>\n",
       "      <td>50788652.0</td>\n",
       "      <td>4252791.0</td>\n",
       "      <td>“Despacito” disponible ya en todas las platafo...</td>\n",
       "      <td>True</td>\n",
       "      <td>True</td>\n",
       "      <td>1.506598e+09</td>\n",
       "    </tr>\n",
       "  </tbody>\n",
       "</table>\n",
       "</div>"
      ],
      "text/plain": [
       "          artist                                        url_spotify  \\\n",
       "1147  Luis Fonsi  https://open.spotify.com/artist/4V8Sr092TqfHkf...   \n",
       "\n",
       "          track album album_type                                   uri  \\\n",
       "1147  despacito  vida      album  spotify:track:6habFhsOp2NvshLv26DqMb   \n",
       "\n",
       "      danceability  energy  key  loudness  speechiness  acousticness  \\\n",
       "1147         0.655   0.797  2.0    -4.787        0.153         0.198   \n",
       "\n",
       "      instrumentalness  liveness  valence    tempo  duration_ms  \\\n",
       "1147               0.0     0.067    0.839  177.928     229360.0   \n",
       "\n",
       "                                      url_youtube  \\\n",
       "1147  https://www.youtube.com/watch?v=kJQP7kiw5Fk   \n",
       "\n",
       "                                        title        channel         views  \\\n",
       "1147  luis fonsi - despacito ft. daddy yankee  LuisFonsiVEVO  8.079649e+09   \n",
       "\n",
       "           likes   comments  \\\n",
       "1147  50788652.0  4252791.0   \n",
       "\n",
       "                                            description licensed  \\\n",
       "1147  “Despacito” disponible ya en todas las platafo...     True   \n",
       "\n",
       "     official_video        stream  \n",
       "1147           True  1.506598e+09  "
      ]
     },
     "execution_count": 202,
     "metadata": {},
     "output_type": "execute_result"
    }
   ],
   "source": [
    "df_spotify.sort_values(by= 'views', ascending = False).iloc[:1, :]"
   ]
  },
  {
   "cell_type": "markdown",
   "metadata": {},
   "source": [
    "*Efectivamente se trata de Despacito de Luis Fonsi.*"
   ]
  },
  {
   "cell_type": "markdown",
   "metadata": {},
   "source": [
    "*Otra cosa que debemos tener en cuenta al observar estos valores es que la media que calculamos en ejercicios anteriores, tanto de todos los tipos de álbum como sólo de singles, nos sirvió para ver mediante las gráficas qué artistas son los que más visitas o likes tienen, PERO no va a ser una medida muy fiable para analizar nuestros datos. Esto es debido a que la media se ve muy afectada por los valores atípicos, y en este caso en que tenemos atípicos con valores tan elevados se verá mucho más afectada de lo habitual.*"
   ]
  },
  {
   "cell_type": "markdown",
   "metadata": {},
   "source": [
    "*Otra cosa que ocurre con unos outliers tan grandes es que ni siquiera podemos analizar bien la gráfica porque la caja aparece muy comprimida. Vamos a crear una nueva gráfica seleccionando sólo la parte que nos interesa. Con esta nueva gráfica podemos observar mejor los datos y responder a las preguntas propuestas.*"
   ]
  },
  {
   "cell_type": "code",
   "execution_count": 203,
   "metadata": {},
   "outputs": [
    {
     "data": {
      "image/png": "[encoded data removed]",
      "text/plain": [
       "<Figure size 1500x300 with 1 Axes>"
      ]
     },
     "metadata": {},
     "output_type": "display_data"
    }
   ],
   "source": [
    "plt.figure(figsize =(15,3))\n",
    "\n",
    "fig = sns.boxplot(data = df_spotify, x ='views', y = 'album_type', palette = my_palette)\n",
    "\n",
    "fig.set(xlabel= 'NÚMERO DE VISITAS')\n",
    "fig.set(ylabel= 'TIPO DE ÁLBUM')\n",
    "\n",
    "fig.set_title('RELACIÓN ENTRE TIPO DE ÁLBUM Y NÚMERO DE VISITAS', color = 'dimgrey', fontweight='bold', fontsize = 18)\n",
    "\n",
    "plt.xlim(0, 200000000)\n",
    "\n",
    "plt.savefig('8_boxplot_tipos_album_select')\n",
    "\n",
    "plt.show()"
   ]
  },
  {
   "cell_type": "markdown",
   "metadata": {},
   "source": [
    "- ¿Qué tipo de álbumes tienden a tener más vistas en promedio?"
   ]
  },
  {
   "cell_type": "markdown",
   "metadata": {},
   "source": [
    "*Los álbumes. Esto se puede observar porque tanto la mediana, como los percentiles 25% y 75%, como el máximo de la caja son superiores a las otras dos categorías.*"
   ]
  },
  {
   "cell_type": "markdown",
   "metadata": {},
   "source": [
    "- ¿Hay algún tipo de álbumes que tenga una mayor dispersión en las vistas recibidas?"
   ]
  },
  {
   "cell_type": "markdown",
   "metadata": {},
   "source": [
    "*Nuevamente serían los álbumes. Podemos observar que tanto su rango intercuarlítico como el total de la caja se alargan más que en los otros dos casos, lo que quiere decir que cubren un mayor rango de valores y por tanto están mas dispersos, así como también tiene mayor número de valores atípicos. Esto no debería sorprendernos ya que también es la categoría donde tenemos más registros, con mucha diferencia respecto a las otras categorías.*"
   ]
  },
  {
   "cell_type": "markdown",
   "metadata": {},
   "source": [
    "- ¿Existen valores atípicos (outliers) en alguna categoría de álbumes?"
   ]
  },
  {
   "cell_type": "markdown",
   "metadata": {},
   "source": [
    "*Como hemos comentado antes, en las tres categorías tenemos valores atípicos en la parte superior de la caja, que podrían indicar grandes éxitos que reciben muchas más visitas de lo que sería esperable en base al resto de valores del boxplot.*"
   ]
  },
  {
   "cell_type": "markdown",
   "metadata": {},
   "source": [
    "- ¿Qué conclusión se puede obtener sobre la relación entre el tipo de álbum y la cantidad de vistas recibidas?"
   ]
  },
  {
   "cell_type": "markdown",
   "metadata": {},
   "source": [
    "*Aunque el álbum sea la categoría que más visitas recibe, en realidad podemos observar que estas tres categorías son bastante similares entre sí, salvando las diferencias que ya hemos comentado. Todas tienen un Q1 muy cercano al mínimo, una mediana que se aproxima bastante más al Q1 que al Q3, y una gran distancia entre el Q3 y el máximo (en las tres categorías, esta distancia es incluso mayor que el propio rango intercuarlítico, es decir, este 25% de los datos está más espaciado que el 75% restante). Unido a esto recordamos los outliers en la parte superior que presentan las tres categorías.*"
   ]
  },
  {
   "cell_type": "markdown",
   "metadata": {},
   "source": [
    "*Esto nos indica que nuestros datos tienen los registros muchos más concentrados en la parte inferior de la gráfica, es decir, tenemos muchas canciones que tienen pocas visitas, y a medida que las visitas aumentan estos datos se van espaciando. Por ejemplo, en la categoría single, nuestra mediana está en torno a 12,5 millones de visitas, y el máximo de la caja (que no es nuestro outlier mayor, sino el máximo establecido en base a los valores de los cuartiles) está en torno a 150 millones de visitas. Es decir, hay los mismos valores de cero a 12,5 que de 12,5 a 150, habiendo una gran desproporción entre la mitad inferior y la superior.*"
   ]
  }
 ],
 "metadata": {
  "kernelspec": {
   "display_name": "adalabenv",
   "language": "python",
   "name": "python3"
  },
  "language_info": {
   "codemirror_mode": {
    "name": "ipython",
    "version": 3
   },
   "file_extension": ".py",
   "mimetype": "text/x-python",
   "name": "python",
   "nbconvert_exporter": "python",
   "pygments_lexer": "ipython3",
   "version": "3.10.11"
  },
  "orig_nbformat": 4
 },
 "nbformat": 4,
 "nbformat_minor": 2
}
